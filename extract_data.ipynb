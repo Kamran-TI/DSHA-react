{
 "cells": [
  {
   "cell_type": "code",
   "execution_count": 1,
   "id": "99936540",
   "metadata": {},
   "outputs": [],
   "source": [
    "import geopandas as gpd\n",
    "import pandas as pd\n",
    "import numpy as np\n",
    "import folium"
   ]
  },
  {
   "cell_type": "code",
   "execution_count": 2,
   "id": "3b121bf6",
   "metadata": {},
   "outputs": [
    {
     "name": "stdout",
     "output_type": "stream",
     "text": [
      "A\n"
     ]
    }
   ],
   "source": [
    "# Read the excel sheet and skip blank rows\n",
    "raw_excel = pd.read_excel(\"data/DSHA LIHTC List_MAPPING.xlsx\", engine='openpyxl', skiprows=[2,3], skipfooter=4, dtype=str)\n",
    "# Add additional column information from the first row\n",
    "raw_excel.columns = (raw_excel.columns.astype(str) + \" \" + raw_excel.head(1).fillna(\"\").astype(str)).iloc[0].str.strip().values\n",
    "raw_excel.rename(columns={\"ALLOCATION .1 DATE\": \"ALLOCATION DATE\", \"ALLOCATION  AMOUNT\": \"ALLOCATION AMOUNT\", \"Type of Property*\": \"Type of Property\"}, inplace=True)\n",
    "raw_excel.drop(0, inplace=True)"
   ]
  },
  {
   "cell_type": "code",
   "execution_count": 3,
   "id": "ade04c41",
   "metadata": {},
   "outputs": [],
   "source": [
    "# Find and label the rows about tax year\n",
    "raw_excel[\"is tax\"] = raw_excel[\"PROJECT NAME & ADDRESS\"].str.contains(\"TAX CREDIT ALLOCATIONS\")\n",
    "\n",
    "# Function that maps each the boolean column \"is tax\", which is true when a row contains tax year information, to an integer equal to the tax year\n",
    "def assign_to_year(x, i):\n",
    "    # if the row is a tax year, increment i\n",
    "    if x:\n",
    "        i[0] = i[0] + 1\n",
    "    # return an integer equal to the tax year\n",
    "    return i[0] + 2016\n",
    "\n",
    "# add a column for the tax year\n",
    "index = [-1]\n",
    "raw_excel[\"Tax Allocation Year\"] = raw_excel[\"is tax\"].apply(assign_to_year, args=[index])\n",
    "\n",
    "# drop rows of tax year information and reformat\n",
    "raw_excel = raw_excel.loc[~raw_excel[\"is tax\"]].drop(columns=\"is tax\").reset_index(drop=True)\n"
   ]
  },
  {
   "cell_type": "code",
   "execution_count": 4,
   "id": "e8069ad5",
   "metadata": {},
   "outputs": [],
   "source": [
    "# Add a column that labels the primary line for an entry\n",
    "raw_excel[\"primary\"] = ~raw_excel[\"County\"].isna()\n",
    "\n",
    "# Function that maps each the boolean column \"primary\", which is true when a row contains the primary info from the dataset, to an integer that functions as an index for primary entries\n",
    "def assign_to_year(x, i):\n",
    "    # if the row is primary, increment i\n",
    "    if x:\n",
    "        i[0] = i[0] + 1\n",
    "    # return an index for the primary entries\n",
    "    return i[0]\n",
    "\n",
    "# add an index column for the primary entries\n",
    "index = [-1]\n",
    "raw_excel[\"primary\"] = raw_excel[\"primary\"].apply(assign_to_year, args=[index])"
   ]
  },
  {
   "cell_type": "code",
   "execution_count": 5,
   "id": "2dc2d2e7",
   "metadata": {},
   "outputs": [
    {
     "name": "stdout",
     "output_type": "stream",
     "text": [
      "37     881051\n",
      "38        NaN\n",
      "39        NaN\n",
      "40        NaN\n",
      "41        NaN\n",
      "        ...  \n",
      "134       NaN\n",
      "135       NaN\n",
      "136       TBD\n",
      "137       NaN\n",
      "138       NaN\n",
      "Name: ALLOCATION DATE, Length: 102, dtype: object\n"
     ]
    }
   ],
   "source": [
    "# Fix 'ALLOCATION AMOUNT', 'ALLOCATION DATE' swap\n",
    "flipped_years = [2018, 2019, 2020, 2021, 2022]\n",
    "#raw_excel[\"ALLOCATION AMOUNT\"] = raw_excel[\"ALLOCATION AMOUNT\"].astype(str)\n",
    "#raw_excel['ALLOCATION DATE'] = raw_excel['ALLOCATION DATE'].astype(str)\n",
    "tmp = raw_excel.loc[raw_excel[\"Tax Allocation Year\"].isin(flipped_years)]['ALLOCATION AMOUNT'].copy()\n",
    "tmp2 = raw_excel.loc[raw_excel[\"Tax Allocation Year\"].isin(flipped_years)]['ALLOCATION DATE'].copy()\n",
    "raw_excel.loc[raw_excel[\"Tax Allocation Year\"].isin(flipped_years), 'ALLOCATION AMOUNT'] = tmp2.values\n",
    "\n",
    "raw_excel.loc[raw_excel[\"Tax Allocation Year\"].isin(flipped_years), 'ALLOCATION DATE'] = tmp.values\n"
   ]
  },
  {
   "cell_type": "code",
   "execution_count": null,
   "id": "f9463324",
   "metadata": {},
   "outputs": [],
   "source": []
  },
  {
   "cell_type": "code",
   "execution_count": 7,
   "id": "1de59457",
   "metadata": {},
   "outputs": [],
   "source": [
    "# Create separate dataframes for each row in a data entry\n",
    "grouped_data = raw_excel.groupby(\"primary\")\n",
    "raw_data1 = grouped_data.nth(0)\n",
    "raw_data2 = grouped_data.nth(1).drop(columns=\"Tax Allocation Year\")\n",
    "raw_data3 = grouped_data.nth(2).drop(columns=\"Tax Allocation Year\")\n",
    "raw_data4 = grouped_data.nth(3).drop(columns=\"Tax Allocation Year\")\n",
    "raw_data5 = grouped_data.nth(4).drop(columns=\"Tax Allocation Year\")\n",
    "\n",
    "# Modify the column names for each dataframe to prepare for joining\n",
    "raw_data2.columns = raw_data2.columns + \" 2\"\n",
    "raw_data3.columns = raw_data3.columns + \" 3\"\n",
    "raw_data4.columns = raw_data4.columns + \" 4\"\n",
    "raw_data5.columns = raw_data5.columns + \" 5\"\n",
    "\n",
    "# Join the dataframes by index\n",
    "flattened_data = raw_data1.join(raw_data2, how=\"left\").join(raw_data3, how=\"left\").join(raw_data4, how=\"left\").join(raw_data5, how=\"left\").dropna(axis=1, how='all').reset_index(drop=True)\n"
   ]
  },
  {
   "cell_type": "code",
   "execution_count": null,
   "id": "05aaa392",
   "metadata": {},
   "outputs": [],
   "source": []
  },
  {
   "cell_type": "code",
   "execution_count": 9,
   "id": "79ff1246",
   "metadata": {},
   "outputs": [],
   "source": [
    "# Convert dates back to their orginial format\n",
    "flattened_data[\"Placed in Service Date\"] = pd.to_datetime(flattened_data[\"Placed in Service Date\"], errors='coerce').dt.strftime('%m/%d/%Y')\n",
    "flattened_data[\"ALLOCATION DATE\"] = pd.to_datetime(flattened_data[\"ALLOCATION DATE\"], errors='coerce').dt.strftime('%m/%d/%Y')\n",
    "flattened_data[\"Tax Credit Compliance Date\"] = pd.to_datetime(flattened_data[\"Tax Credit Compliance Date\"], errors='coerce').dt.strftime('%m/%d/%Y')\n",
    "flattened_data[\"Extended Use Period\"] = pd.to_datetime(flattened_data[\"Extended Use Period\"], errors='coerce').dt.strftime('%m/%d/%Y')\n",
    "flattened_data[\"Placed in Service Date 2\"] = pd.to_datetime(flattened_data[\"Placed in Service Date 2\"], errors='coerce').dt.strftime('%m/%d/%Y')\n",
    "\n"
   ]
  },
  {
   "cell_type": "code",
   "execution_count": null,
   "id": "613a7893",
   "metadata": {},
   "outputs": [],
   "source": []
  },
  {
   "cell_type": "code",
   "execution_count": 11,
   "id": "d82d1a7c",
   "metadata": {},
   "outputs": [],
   "source": [
    "# Combine address fields\n",
    "address_columns = [\"PROJECT NAME & ADDRESS\", \"PROJECT NAME & ADDRESS 2\", \"PROJECT NAME & ADDRESS 3\", \"PROJECT NAME & ADDRESS 4\", \"PROJECT NAME & ADDRESS 5\"]\n",
    "\n",
    "# Extracts addresses from projects\n",
    "def extract_address(x):\n",
    "    # Project 27 has three full addresses, so we use the last one listed\n",
    "    if x.name == 27:\n",
    "        addr = x[address_columns].dropna().values[-1]\n",
    "        return addr\n",
    "    # The last two lines of the address field contain the address split between two lines, except for project 27\n",
    "    else:\n",
    "        addr = x[address_columns].dropna().values[-2:]\n",
    "        return addr[0] + \", \" + addr[1]\n",
    "\n",
    "# Extract an address for each project\n",
    "flattened_data[\"address\"] = flattened_data.apply(extract_address, axis=1)"
   ]
  },
  {
   "cell_type": "code",
   "execution_count": 12,
   "id": "6fd04535",
   "metadata": {},
   "outputs": [],
   "source": [
    "# Print the data to a csv\n",
    "flattened_data.to_csv(\"data/processed_data.csv\", index=False)"
   ]
  },
  {
   "cell_type": "code",
   "execution_count": 13,
   "id": "756363da",
   "metadata": {},
   "outputs": [],
   "source": [
    "# Print the addresses to a seperate list\n",
    "flattened_data[\"address\"].to_csv(\"data/DSHA_addresses.csv\", index=False)"
   ]
  },
  {
   "cell_type": "markdown",
   "id": "0ba495db",
   "metadata": {},
   "source": [
    "At this point we transfer the address csv over to the geolocator to get the latitude and longitude of each project"
   ]
  },
  {
   "cell_type": "code",
   "execution_count": 14,
   "id": "5a62066c",
   "metadata": {},
   "outputs": [
    {
     "name": "stdout",
     "output_type": "stream",
     "text": [
      "(36,)\n",
      "(42,)\n",
      "(42, 25)\n"
     ]
    }
   ],
   "source": [
    "# Read the file of geolocated addresses\n",
    "geolocations = pd.read_csv(\"data/counts_per_tract.csv\").drop_duplicates(\"input addresses\")\n",
    "# Join the geolocations to the flattened dataframe\n",
    "geolocated_data = flattened_data.merge(geolocations, left_on=\"address\", right_on=\"input addresses\", how=\"inner\")\n",
    "# Remove lat,lot from unsuccessfully (not in the u.s.) geolocated address\n",
    "geolocated_data.loc[geolocated_data[\"census tract\"] == \"Unable To Geolocate The Address\", \"lot\"] = np.nan\n",
    "geolocated_data.loc[geolocated_data[\"census tract\"] == \"Unable To Geolocate The Address\", \"lat\"] = np.nan"
   ]
  },
  {
   "cell_type": "code",
   "execution_count": 15,
   "id": "36fc3e68",
   "metadata": {},
   "outputs": [],
   "source": [
    "# Convert lat,lot to Shapely points\n",
    "geolocated_data = gpd.GeoDataFrame(geolocated_data, geometry=gpd.points_from_xy(geolocated_data['lat'], geolocated_data['lot'], crs=\"EPSG:4326\"))\n"
   ]
  },
  {
   "cell_type": "code",
   "execution_count": 16,
   "id": "415df177",
   "metadata": {},
   "outputs": [
    {
     "data": {
      "text/html": [
       "<div style=\"width:100%;\"><div style=\"position:relative;width:100%;height:0;padding-bottom:60%;\"><span style=\"color:#565656\">Make this Notebook Trusted to load map: File -> Trust Notebook</span><iframe srcdoc=\"&lt;!DOCTYPE html&gt;\n",
       "&lt;html&gt;\n",
       "&lt;head&gt;\n",
       "    \n",
       "    &lt;meta http-equiv=&quot;content-type&quot; content=&quot;text/html; charset=UTF-8&quot; /&gt;\n",
       "    \n",
       "        &lt;script&gt;\n",
       "            L_NO_TOUCH = false;\n",
       "            L_DISABLE_3D = false;\n",
       "        &lt;/script&gt;\n",
       "    \n",
       "    &lt;style&gt;html, body {width: 100%;height: 100%;margin: 0;padding: 0;}&lt;/style&gt;\n",
       "    &lt;style&gt;#map {position:absolute;top:0;bottom:0;right:0;left:0;}&lt;/style&gt;\n",
       "    &lt;script src=&quot;https://cdn.jsdelivr.net/npm/leaflet@1.9.3/dist/leaflet.js&quot;&gt;&lt;/script&gt;\n",
       "    &lt;script src=&quot;https://code.jquery.com/jquery-1.12.4.min.js&quot;&gt;&lt;/script&gt;\n",
       "    &lt;script src=&quot;https://cdn.jsdelivr.net/npm/bootstrap@5.2.2/dist/js/bootstrap.bundle.min.js&quot;&gt;&lt;/script&gt;\n",
       "    &lt;script src=&quot;https://cdnjs.cloudflare.com/ajax/libs/Leaflet.awesome-markers/2.0.2/leaflet.awesome-markers.js&quot;&gt;&lt;/script&gt;\n",
       "    &lt;link rel=&quot;stylesheet&quot; href=&quot;https://cdn.jsdelivr.net/npm/leaflet@1.9.3/dist/leaflet.css&quot;/&gt;\n",
       "    &lt;link rel=&quot;stylesheet&quot; href=&quot;https://cdn.jsdelivr.net/npm/bootstrap@5.2.2/dist/css/bootstrap.min.css&quot;/&gt;\n",
       "    &lt;link rel=&quot;stylesheet&quot; href=&quot;https://netdna.bootstrapcdn.com/bootstrap/3.0.0/css/bootstrap.min.css&quot;/&gt;\n",
       "    &lt;link rel=&quot;stylesheet&quot; href=&quot;https://cdn.jsdelivr.net/npm/@fortawesome/fontawesome-free@6.2.0/css/all.min.css&quot;/&gt;\n",
       "    &lt;link rel=&quot;stylesheet&quot; href=&quot;https://cdnjs.cloudflare.com/ajax/libs/Leaflet.awesome-markers/2.0.2/leaflet.awesome-markers.css&quot;/&gt;\n",
       "    &lt;link rel=&quot;stylesheet&quot; href=&quot;https://cdn.jsdelivr.net/gh/python-visualization/folium/folium/templates/leaflet.awesome.rotate.min.css&quot;/&gt;\n",
       "    \n",
       "            &lt;meta name=&quot;viewport&quot; content=&quot;width=device-width,\n",
       "                initial-scale=1.0, maximum-scale=1.0, user-scalable=no&quot; /&gt;\n",
       "            &lt;style&gt;\n",
       "                #map_0f0661e195f15a11356865f06daaaaf9 {\n",
       "                    position: relative;\n",
       "                    width: 100.0%;\n",
       "                    height: 100.0%;\n",
       "                    left: 0.0%;\n",
       "                    top: 0.0%;\n",
       "                }\n",
       "                .leaflet-container { font-size: 1rem; }\n",
       "            &lt;/style&gt;\n",
       "        \n",
       "&lt;/head&gt;\n",
       "&lt;body&gt;\n",
       "    \n",
       "    \n",
       "            &lt;div class=&quot;folium-map&quot; id=&quot;map_0f0661e195f15a11356865f06daaaaf9&quot; &gt;&lt;/div&gt;\n",
       "        \n",
       "&lt;/body&gt;\n",
       "&lt;script&gt;\n",
       "    \n",
       "    \n",
       "            var map_0f0661e195f15a11356865f06daaaaf9 = L.map(\n",
       "                &quot;map_0f0661e195f15a11356865f06daaaaf9&quot;,\n",
       "                {\n",
       "                    center: [39.74503, -75.57203],\n",
       "                    crs: L.CRS.EPSG3857,\n",
       "                    zoom: 14,\n",
       "                    zoomControl: true,\n",
       "                    preferCanvas: false,\n",
       "                }\n",
       "            );\n",
       "\n",
       "            \n",
       "\n",
       "        \n",
       "    \n",
       "            var tile_layer_b42992c9285dfa70de973bd927839cdd = L.tileLayer(\n",
       "                &quot;https://cartodb-basemaps-{s}.global.ssl.fastly.net/light_all/{z}/{x}/{y}.png&quot;,\n",
       "                {&quot;attribution&quot;: &quot;\\u0026copy; \\u003ca target=\\&quot;_blank\\&quot; href=\\&quot;http://www.openstreetmap.org/copyright\\&quot;\\u003eOpenStreetMap\\u003c/a\\u003e contributors \\u0026copy; \\u003ca target=\\&quot;_blank\\&quot; href=\\&quot;http://cartodb.com/attributions\\&quot;\\u003eCartoDB\\u003c/a\\u003e, CartoDB \\u003ca target=\\&quot;_blank\\&quot; href =\\&quot;http://cartodb.com/attributions\\&quot;\\u003eattributions\\u003c/a\\u003e&quot;, &quot;detectRetina&quot;: false, &quot;maxNativeZoom&quot;: 18, &quot;maxZoom&quot;: 18, &quot;minZoom&quot;: 0, &quot;noWrap&quot;: false, &quot;opacity&quot;: 1, &quot;subdomains&quot;: &quot;abc&quot;, &quot;tms&quot;: false}\n",
       "            ).addTo(map_0f0661e195f15a11356865f06daaaaf9);\n",
       "        \n",
       "    \n",
       "        function geo_json_e9d2b6ce4f37c14caca077dad1bfa01d_pointToLayer(feature, latlng) {\n",
       "            var opts = {&quot;bubblingMouseEvents&quot;: true, &quot;color&quot;: &quot;#3388ff&quot;, &quot;dashArray&quot;: null, &quot;dashOffset&quot;: null, &quot;fill&quot;: true, &quot;fillColor&quot;: &quot;#d95f02&quot;, &quot;fillOpacity&quot;: 1, &quot;fillRule&quot;: &quot;evenodd&quot;, &quot;lineCap&quot;: &quot;round&quot;, &quot;lineJoin&quot;: &quot;round&quot;, &quot;opacity&quot;: 1.0, &quot;radius&quot;: 5, &quot;stroke&quot;: true, &quot;weight&quot;: 0};\n",
       "            \n",
       "            return new L.CircleMarker(latlng, opts)\n",
       "        }\n",
       "\n",
       "        function geo_json_e9d2b6ce4f37c14caca077dad1bfa01d_onEachFeature(feature, layer) {\n",
       "            layer.on({\n",
       "            });\n",
       "        };\n",
       "        var geo_json_e9d2b6ce4f37c14caca077dad1bfa01d = L.geoJson(null, {\n",
       "                onEachFeature: geo_json_e9d2b6ce4f37c14caca077dad1bfa01d_onEachFeature,\n",
       "            \n",
       "                pointToLayer: geo_json_e9d2b6ce4f37c14caca077dad1bfa01d_pointToLayer\n",
       "        });\n",
       "\n",
       "        function geo_json_e9d2b6ce4f37c14caca077dad1bfa01d_add (data) {\n",
       "            geo_json_e9d2b6ce4f37c14caca077dad1bfa01d\n",
       "                .addData(data)\n",
       "                .addTo(map_0f0661e195f15a11356865f06daaaaf9);\n",
       "        }\n",
       "            geo_json_e9d2b6ce4f37c14caca077dad1bfa01d_add({&quot;bbox&quot;: [-75.71770725399995, 38.58586587000008, -75.14529768299997, 39.75607740008254], &quot;features&quot;: [{&quot;bbox&quot;: [-75.54647152099994, 39.74226094900007, -75.54647152099994, 39.74226094900007], &quot;geometry&quot;: {&quot;coordinates&quot;: [-75.54647152099994, 39.74226094900007], &quot;type&quot;: &quot;Point&quot;}, &quot;id&quot;: &quot;0&quot;, &quot;properties&quot;: {&quot;# of Tax Credit Units&quot;: &quot;51&quot;, &quot;4% or 9% Allocation&quot;: &quot;0.09&quot;, &quot;ALLOCATION AMOUNT&quot;: &quot;913337&quot;, &quot;ALLOCATION AMOUNT 2&quot;: null, &quot;ALLOCATION DATE&quot;: &quot;12/20/2016&quot;, &quot;Applicable Credit Rate&quot;: &quot;9&quot;, &quot;Applicable Credit Rate 2&quot;: null, &quot;County&quot;: &quot;New Castle&quot;, &quot;Extended Use Period&quot;: &quot;12/31/2048&quot;, &quot;PROJECT NAME \\u0026 ADDRESS&quot;: &quot;PEARL CENTER&quot;, &quot;PROJECT NAME \\u0026 ADDRESS 2&quot;: &quot;300 East 8th Street&quot;, &quot;PROJECT NAME \\u0026 ADDRESS 3&quot;: &quot;Wilmington, DE  19801&quot;, &quot;PROJECT NAME \\u0026 ADDRESS 4&quot;: null, &quot;PROJECT NAME \\u0026 ADDRESS 5&quot;: null, &quot;Placed in Service Date&quot;: &quot;08/31/2018&quot;, &quot;Placed in Service Date 2&quot;: null, &quot;Status Active/Non&quot;: &quot;Active&quot;, &quot;Tax Allocation Year&quot;: 2016, &quot;Tax Credit Compliance Date&quot;: &quot;12/31/2032&quot;, &quot;Type of Property&quot;: &quot;F&quot;, &quot;address&quot;: &quot;300 East 8th Street, Wilmington, DE  19801&quot;, &quot;census tract&quot;: &quot;29&quot;, &quot;input addresses&quot;: &quot;300 East 8th Street, Wilmington, DE  19801&quot;, &quot;lat&quot;: -75.54647152099994, &quot;lot&quot;: 39.74226094900007}, &quot;type&quot;: &quot;Feature&quot;}, {&quot;bbox&quot;: [-75.14529768299997, 38.76164546600006, -75.14529768299997, 38.76164546600006], &quot;geometry&quot;: {&quot;coordinates&quot;: [-75.14529768299997, 38.76164546600006], &quot;type&quot;: &quot;Point&quot;}, &quot;id&quot;: &quot;1&quot;, &quot;properties&quot;: {&quot;# of Tax Credit Units&quot;: &quot;32&quot;, &quot;4% or 9% Allocation&quot;: &quot;0.09&quot;, &quot;ALLOCATION AMOUNT&quot;: &quot;518044&quot;, &quot;ALLOCATION AMOUNT 2&quot;: null, &quot;ALLOCATION DATE&quot;: &quot;12/20/2016&quot;, &quot;Applicable Credit Rate&quot;: &quot;9&quot;, &quot;Applicable Credit Rate 2&quot;: null, &quot;County&quot;: &quot;Sussex&quot;, &quot;Extended Use Period&quot;: &quot;12/31/2021&quot;, &quot;PROJECT NAME \\u0026 ADDRESS&quot;: &quot;JEFFERSON ESTATES II&quot;, &quot;PROJECT NAME \\u0026 ADDRESS 2&quot;: &quot;825 Kings Highway, #101&quot;, &quot;PROJECT NAME \\u0026 ADDRESS 3&quot;: &quot;Lewes, DE  19958&quot;, &quot;PROJECT NAME \\u0026 ADDRESS 4&quot;: null, &quot;PROJECT NAME \\u0026 ADDRESS 5&quot;: null, &quot;Placed in Service Date&quot;: &quot;01/23/2018&quot;, &quot;Placed in Service Date 2&quot;: null, &quot;Status Active/Non&quot;: &quot;Active&quot;, &quot;Tax Allocation Year&quot;: 2016, &quot;Tax Credit Compliance Date&quot;: &quot;12/31/2006&quot;, &quot;Type of Property&quot;: &quot;F&quot;, &quot;address&quot;: &quot;825 Kings Highway, #101, Lewes, DE  19958&quot;, &quot;census tract&quot;: &quot;509.04&quot;, &quot;input addresses&quot;: &quot;825 Kings Highway, #101, Lewes, DE  19958&quot;, &quot;lat&quot;: -75.14529768299997, &quot;lot&quot;: 38.76164546600006}, &quot;type&quot;: &quot;Feature&quot;}, {&quot;bbox&quot;: [-75.29852190919607, 38.58629459541729, -75.29852190919607, 38.58629459541729], &quot;geometry&quot;: {&quot;coordinates&quot;: [-75.29852190919607, 38.58629459541729], &quot;type&quot;: &quot;Point&quot;}, &quot;id&quot;: &quot;2&quot;, &quot;properties&quot;: {&quot;# of Tax Credit Units&quot;: &quot;38&quot;, &quot;4% or 9% Allocation&quot;: &quot;0.09&quot;, &quot;ALLOCATION AMOUNT&quot;: &quot;792137&quot;, &quot;ALLOCATION AMOUNT 2&quot;: null, &quot;ALLOCATION DATE&quot;: &quot;12/20/2016&quot;, &quot;Applicable Credit Rate&quot;: &quot;9&quot;, &quot;Applicable Credit Rate 2&quot;: null, &quot;County&quot;: &quot;Sussex&quot;, &quot;Extended Use Period&quot;: null, &quot;PROJECT NAME \\u0026 ADDRESS&quot;: &quot;VILLAGE OF IRON BRANCH (fka Halls Heritage)&quot;, &quot;PROJECT NAME \\u0026 ADDRESS 2&quot;: &quot;Halls Heritage Circle&quot;, &quot;PROJECT NAME \\u0026 ADDRESS 3&quot;: &quot;Millsboro, DE  19966&quot;, &quot;PROJECT NAME \\u0026 ADDRESS 4&quot;: null, &quot;PROJECT NAME \\u0026 ADDRESS 5&quot;: null, &quot;Placed in Service Date&quot;: &quot;12/31/2018&quot;, &quot;Placed in Service Date 2&quot;: null, &quot;Status Active/Non&quot;: &quot;Active&quot;, &quot;Tax Allocation Year&quot;: 2016, &quot;Tax Credit Compliance Date&quot;: null, &quot;Type of Property&quot;: &quot;F&quot;, &quot;address&quot;: &quot;Halls Heritage Circle, Millsboro, DE  19966&quot;, &quot;census tract&quot;: &quot;506.03&quot;, &quot;input addresses&quot;: &quot;Halls Heritage Circle, Millsboro, DE  19966&quot;, &quot;lat&quot;: -75.29852190919607, &quot;lot&quot;: 38.58629459541729}, &quot;type&quot;: &quot;Feature&quot;}, {&quot;bbox&quot;: [-75.57186289073468, 39.75607740008254, -75.57186289073468, 39.75607740008254], &quot;geometry&quot;: {&quot;coordinates&quot;: [-75.57186289073468, 39.75607740008254], &quot;type&quot;: &quot;Point&quot;}, &quot;id&quot;: &quot;3&quot;, &quot;properties&quot;: {&quot;# of Tax Credit Units&quot;: &quot;72&quot;, &quot;4% or 9% Allocation&quot;: &quot;0.04&quot;, &quot;ALLOCATION AMOUNT&quot;: &quot;503861&quot;, &quot;ALLOCATION AMOUNT 2&quot;: null, &quot;ALLOCATION DATE&quot;: &quot;12/08/2016&quot;, &quot;Applicable Credit Rate&quot;: &quot;3.21&quot;, &quot;Applicable Credit Rate 2&quot;: null, &quot;County&quot;: &quot;New Castle&quot;, &quot;Extended Use Period&quot;: &quot;12/31/2048&quot;, &quot;PROJECT NAME \\u0026 ADDRESS&quot;: &quot;THE FLATS, PHASE II MRB&quot;, &quot;PROJECT NAME \\u0026 ADDRESS 2&quot;: &quot;Bancroft Parkway&quot;, &quot;PROJECT NAME \\u0026 ADDRESS 3&quot;: &quot;Wilmington, DE  19805&quot;, &quot;PROJECT NAME \\u0026 ADDRESS 4&quot;: null, &quot;PROJECT NAME \\u0026 ADDRESS 5&quot;: null, &quot;Placed in Service Date&quot;: &quot;06/28/2018&quot;, &quot;Placed in Service Date 2&quot;: null, &quot;Status Active/Non&quot;: &quot;Active&quot;, &quot;Tax Allocation Year&quot;: 2016, &quot;Tax Credit Compliance Date&quot;: &quot;12/31/2033&quot;, &quot;Type of Property&quot;: &quot;F&quot;, &quot;address&quot;: &quot;Bancroft Parkway, Wilmington, DE  19805&quot;, &quot;census tract&quot;: &quot;13&quot;, &quot;input addresses&quot;: &quot;Bancroft Parkway, Wilmington, DE  19805&quot;, &quot;lat&quot;: -75.57186289073468, &quot;lot&quot;: 39.75607740008254}, &quot;type&quot;: &quot;Feature&quot;}, {&quot;bbox&quot;: [-75.57186289073468, 39.75607740008254, -75.57186289073468, 39.75607740008254], &quot;geometry&quot;: {&quot;coordinates&quot;: [-75.57186289073468, 39.75607740008254], &quot;type&quot;: &quot;Point&quot;}, &quot;id&quot;: &quot;4&quot;, &quot;properties&quot;: {&quot;# of Tax Credit Units&quot;: &quot;75&quot;, &quot;4% or 9% Allocation&quot;: &quot;0.09&quot;, &quot;ALLOCATION AMOUNT&quot;: &quot;1062603&quot;, &quot;ALLOCATION AMOUNT 2&quot;: null, &quot;ALLOCATION DATE&quot;: &quot;12/13/2017&quot;, &quot;Applicable Credit Rate&quot;: &quot;9&quot;, &quot;Applicable Credit Rate 2&quot;: null, &quot;County&quot;: &quot;New Castle&quot;, &quot;Extended Use Period&quot;: null, &quot;PROJECT NAME \\u0026 ADDRESS&quot;: &quot;THE FLATS, PHASE III (Return and Fowrward)&quot;, &quot;PROJECT NAME \\u0026 ADDRESS 2&quot;: &quot;Bancroft Parkway&quot;, &quot;PROJECT NAME \\u0026 ADDRESS 3&quot;: &quot;Wilmington, DE  19805&quot;, &quot;PROJECT NAME \\u0026 ADDRESS 4&quot;: null, &quot;PROJECT NAME \\u0026 ADDRESS 5&quot;: null, &quot;Placed in Service Date&quot;: null, &quot;Placed in Service Date 2&quot;: null, &quot;Status Active/Non&quot;: &quot;Carryover&quot;, &quot;Tax Allocation Year&quot;: 2017, &quot;Tax Credit Compliance Date&quot;: null, &quot;Type of Property&quot;: &quot;F&quot;, &quot;address&quot;: &quot;Bancroft Parkway, Wilmington, DE  19805&quot;, &quot;census tract&quot;: &quot;13&quot;, &quot;input addresses&quot;: &quot;Bancroft Parkway, Wilmington, DE  19805&quot;, &quot;lat&quot;: -75.57186289073468, &quot;lot&quot;: 39.75607740008254}, &quot;type&quot;: &quot;Feature&quot;}, {&quot;bbox&quot;: [-75.55637240499993, 39.167185569000026, -75.55637240499993, 39.167185569000026], &quot;geometry&quot;: {&quot;coordinates&quot;: [-75.55637240499993, 39.167185569000026], &quot;type&quot;: &quot;Point&quot;}, &quot;id&quot;: &quot;5&quot;, &quot;properties&quot;: {&quot;# of Tax Credit Units&quot;: &quot;100&quot;, &quot;4% or 9% Allocation&quot;: &quot;0.04&quot;, &quot;ALLOCATION AMOUNT&quot;: &quot;620003&quot;, &quot;ALLOCATION AMOUNT 2&quot;: null, &quot;ALLOCATION DATE&quot;: &quot;07/26/2017&quot;, &quot;Applicable Credit Rate&quot;: &quot;3.22&quot;, &quot;Applicable Credit Rate 2&quot;: null, &quot;County&quot;: &quot;Kent&quot;, &quot;Extended Use Period&quot;: &quot;12/31/2048&quot;, &quot;PROJECT NAME \\u0026 ADDRESS&quot;: &quot;LIBERTY COURT MRB&quot;, &quot;PROJECT NAME \\u0026 ADDRESS 2&quot;: &quot;1289 Walker Road&quot;, &quot;PROJECT NAME \\u0026 ADDRESS 3&quot;: &quot;Dover, DE  19901&quot;, &quot;PROJECT NAME \\u0026 ADDRESS 4&quot;: null, &quot;PROJECT NAME \\u0026 ADDRESS 5&quot;: null, &quot;Placed in Service Date&quot;: &quot;10/13/2018&quot;, &quot;Placed in Service Date 2&quot;: null, &quot;Status Active/Non&quot;: &quot;Active&quot;, &quot;Tax Allocation Year&quot;: 2017, &quot;Tax Credit Compliance Date&quot;: &quot;12/31/2033&quot;, &quot;Type of Property&quot;: &quot;F&quot;, &quot;address&quot;: &quot;1289 Walker Road, Dover, DE  19901&quot;, &quot;census tract&quot;: &quot;407&quot;, &quot;input addresses&quot;: &quot;1289 Walker Road, Dover, DE  19901&quot;, &quot;lat&quot;: -75.55637240499993, &quot;lot&quot;: 39.167185569000026}, &quot;type&quot;: &quot;Feature&quot;}, {&quot;bbox&quot;: [-75.56218107799998, 39.75159206100005, -75.56218107799998, 39.75159206100005], &quot;geometry&quot;: {&quot;coordinates&quot;: [-75.56218107799998, 39.75159206100005], &quot;type&quot;: &quot;Point&quot;}, &quot;id&quot;: &quot;6&quot;, &quot;properties&quot;: {&quot;# of Tax Credit Units&quot;: &quot;35&quot;, &quot;4% or 9% Allocation&quot;: &quot;0.04&quot;, &quot;ALLOCATION AMOUNT&quot;: &quot;565754&quot;, &quot;ALLOCATION AMOUNT 2&quot;: null, &quot;ALLOCATION DATE&quot;: &quot;05/12/2017&quot;, &quot;Applicable Credit Rate&quot;: &quot;3.24&quot;, &quot;Applicable Credit Rate 2&quot;: null, &quot;County&quot;: &quot;New Caslte&quot;, &quot;Extended Use Period&quot;: null, &quot;PROJECT NAME \\u0026 ADDRESS&quot;: &quot;H. FLETCHER BROWN MRB&quot;, &quot;PROJECT NAME \\u0026 ADDRESS 2&quot;: &quot;1010 N. Broom Street&quot;, &quot;PROJECT NAME \\u0026 ADDRESS 3&quot;: &quot;Wilmington, DE  19806&quot;, &quot;PROJECT NAME \\u0026 ADDRESS 4&quot;: null, &quot;PROJECT NAME \\u0026 ADDRESS 5&quot;: null, &quot;Placed in Service Date&quot;: &quot;12/31/2019&quot;, &quot;Placed in Service Date 2&quot;: null, &quot;Status Active/Non&quot;: &quot;Active&quot;, &quot;Tax Allocation Year&quot;: 2017, &quot;Tax Credit Compliance Date&quot;: null, &quot;Type of Property&quot;: &quot;S&quot;, &quot;address&quot;: &quot;1010 N. Broom Street, Wilmington, DE  19806&quot;, &quot;census tract&quot;: &quot;15&quot;, &quot;input addresses&quot;: &quot;1010 N. Broom Street, Wilmington, DE  19806&quot;, &quot;lat&quot;: -75.56218107799998, &quot;lot&quot;: 39.75159206100005}, &quot;type&quot;: &quot;Feature&quot;}, {&quot;bbox&quot;: [-75.62710744399999, 39.652231312000026, -75.62710744399999, 39.652231312000026], &quot;geometry&quot;: {&quot;coordinates&quot;: [-75.62710744399999, 39.652231312000026], &quot;type&quot;: &quot;Point&quot;}, &quot;id&quot;: &quot;7&quot;, &quot;properties&quot;: {&quot;# of Tax Credit Units&quot;: &quot;120&quot;, &quot;4% or 9% Allocation&quot;: &quot;0.04&quot;, &quot;ALLOCATION AMOUNT&quot;: &quot;497801&quot;, &quot;ALLOCATION AMOUNT 2&quot;: null, &quot;ALLOCATION DATE&quot;: &quot;08/25/2017&quot;, &quot;Applicable Credit Rate&quot;: &quot;3.22&quot;, &quot;Applicable Credit Rate 2&quot;: null, &quot;County&quot;: &quot;New Castle&quot;, &quot;Extended Use Period&quot;: &quot;12/31/2048&quot;, &quot;PROJECT NAME \\u0026 ADDRESS&quot;: &quot;CHELTEN APARTMENTS MRB&quot;, &quot;PROJECT NAME \\u0026 ADDRESS 2&quot;: &quot;431 Old Forge Road&quot;, &quot;PROJECT NAME \\u0026 ADDRESS 3&quot;: &quot;New Castle, DE  19720&quot;, &quot;PROJECT NAME \\u0026 ADDRESS 4&quot;: null, &quot;PROJECT NAME \\u0026 ADDRESS 5&quot;: null, &quot;Placed in Service Date&quot;: &quot;10/31/2018&quot;, &quot;Placed in Service Date 2&quot;: null, &quot;Status Active/Non&quot;: &quot;Active&quot;, &quot;Tax Allocation Year&quot;: 2017, &quot;Tax Credit Compliance Date&quot;: &quot;12/31/2032&quot;, &quot;Type of Property&quot;: &quot;S&quot;, &quot;address&quot;: &quot;431 Old Forge Road, New Castle, DE  19720&quot;, &quot;census tract&quot;: &quot;149.08&quot;, &quot;input addresses&quot;: &quot;431 Old Forge Road, New Castle, DE  19720&quot;, &quot;lat&quot;: -75.62710744399999, &quot;lot&quot;: 39.652231312000026}, &quot;type&quot;: &quot;Feature&quot;}, {&quot;bbox&quot;: [-75.54174052899998, 39.751854105000064, -75.54174052899998, 39.751854105000064], &quot;geometry&quot;: {&quot;coordinates&quot;: [-75.54174052899998, 39.751854105000064], &quot;type&quot;: &quot;Point&quot;}, &quot;id&quot;: &quot;8&quot;, &quot;properties&quot;: {&quot;# of Tax Credit Units&quot;: &quot;53&quot;, &quot;4% or 9% Allocation&quot;: &quot;0.09&quot;, &quot;ALLOCATION AMOUNT&quot;: &quot;778622&quot;, &quot;ALLOCATION AMOUNT 2&quot;: null, &quot;ALLOCATION DATE&quot;: &quot;12/06/2017&quot;, &quot;Applicable Credit Rate&quot;: &quot;9&quot;, &quot;Applicable Credit Rate 2&quot;: null, &quot;County&quot;: &quot;New Castle&quot;, &quot;Extended Use Period&quot;: null, &quot;PROJECT NAME \\u0026 ADDRESS&quot;: &quot;VILLAGE OF ST. JOHN (Forward Reservation)&quot;, &quot;PROJECT NAME \\u0026 ADDRESS 2&quot;: &quot;2019 North Market Street&quot;, &quot;PROJECT NAME \\u0026 ADDRESS 3&quot;: &quot;Wilmington, DE  19802&quot;, &quot;PROJECT NAME \\u0026 ADDRESS 4&quot;: null, &quot;PROJECT NAME \\u0026 ADDRESS 5&quot;: null, &quot;Placed in Service Date&quot;: &quot;08/26/2019&quot;, &quot;Placed in Service Date 2&quot;: null, &quot;Status Active/Non&quot;: &quot;Carryover&quot;, &quot;Tax Allocation Year&quot;: 2017, &quot;Tax Credit Compliance Date&quot;: null, &quot;Type of Property&quot;: &quot;S&quot;, &quot;address&quot;: &quot;2019 North Market Street, Wilmington, DE  19802&quot;, &quot;census tract&quot;: &quot;5&quot;, &quot;input addresses&quot;: &quot;2019 North Market Street, Wilmington, DE  19802&quot;, &quot;lat&quot;: -75.54174052899998, &quot;lot&quot;: 39.751854105000064}, &quot;type&quot;: &quot;Feature&quot;}, {&quot;bbox&quot;: [-75.71618273833816, 39.6656199289158, -75.71618273833816, 39.6656199289158], &quot;geometry&quot;: {&quot;coordinates&quot;: [-75.71618273833816, 39.6656199289158], &quot;type&quot;: &quot;Point&quot;}, &quot;id&quot;: &quot;9&quot;, &quot;properties&quot;: {&quot;# of Tax Credit Units&quot;: &quot;60&quot;, &quot;4% or 9% Allocation&quot;: &quot;0.09&quot;, &quot;ALLOCATION AMOUNT&quot;: &quot;774946&quot;, &quot;ALLOCATION AMOUNT 2&quot;: null, &quot;ALLOCATION DATE&quot;: &quot;12/11/2017&quot;, &quot;Applicable Credit Rate&quot;: &quot;9&quot;, &quot;Applicable Credit Rate 2&quot;: null, &quot;County&quot;: &quot;New Castle&quot;, &quot;Extended Use Period&quot;: null, &quot;PROJECT NAME \\u0026 ADDRESS&quot;: &quot;OUR LADY OF GRACE (Forward Reservation)&quot;, &quot;PROJECT NAME \\u0026 ADDRESS 2&quot;: &quot;2000 Mary Anagela Way&quot;, &quot;PROJECT NAME \\u0026 ADDRESS 3&quot;: &quot;Newark, DE  19712&quot;, &quot;PROJECT NAME \\u0026 ADDRESS 4&quot;: null, &quot;PROJECT NAME \\u0026 ADDRESS 5&quot;: null, &quot;Placed in Service Date&quot;: &quot;12/20/2019&quot;, &quot;Placed in Service Date 2&quot;: null, &quot;Status Active/Non&quot;: &quot;Carryover&quot;, &quot;Tax Allocation Year&quot;: 2017, &quot;Tax Credit Compliance Date&quot;: null, &quot;Type of Property&quot;: &quot;F&quot;, &quot;address&quot;: &quot;2000 Mary Anagela Way, Newark, DE  19712&quot;, &quot;census tract&quot;: &quot;147.05&quot;, &quot;input addresses&quot;: &quot;2000 Mary Anagela Way, Newark, DE  19712&quot;, &quot;lat&quot;: -75.71618273833816, &quot;lot&quot;: 39.6656199289158}, &quot;type&quot;: &quot;Feature&quot;}, {&quot;bbox&quot;: [-75.29199711143387, 38.586581654826816, -75.29199711143387, 38.586581654826816], &quot;geometry&quot;: {&quot;coordinates&quot;: [-75.29199711143387, 38.586581654826816], &quot;type&quot;: &quot;Point&quot;}, &quot;id&quot;: &quot;10&quot;, &quot;properties&quot;: {&quot;# of Tax Credit Units&quot;: &quot;56&quot;, &quot;4% or 9% Allocation&quot;: &quot;0.09&quot;, &quot;ALLOCATION AMOUNT&quot;: &quot;1044577&quot;, &quot;ALLOCATION AMOUNT 2&quot;: null, &quot;ALLOCATION DATE&quot;: &quot;12/11/2017&quot;, &quot;Applicable Credit Rate&quot;: &quot;9&quot;, &quot;Applicable Credit Rate 2&quot;: null, &quot;County&quot;: &quot;Sussex&quot;, &quot;Extended Use Period&quot;: null, &quot;PROJECT NAME \\u0026 ADDRESS&quot;: &quot;BRANDYWINE STATION&quot;, &quot;PROJECT NAME \\u0026 ADDRESS 2&quot;: &quot;Case Lane and Edwards Boulevard&quot;, &quot;PROJECT NAME \\u0026 ADDRESS 3&quot;: &quot;Millsboro, DE  19966&quot;, &quot;PROJECT NAME \\u0026 ADDRESS 4&quot;: null, &quot;PROJECT NAME \\u0026 ADDRESS 5&quot;: null, &quot;Placed in Service Date&quot;: &quot;12/06/2018&quot;, &quot;Placed in Service Date 2&quot;: &quot;12/20/2019&quot;, &quot;Status Active/Non&quot;: &quot;Carryover&quot;, &quot;Tax Allocation Year&quot;: 2017, &quot;Tax Credit Compliance Date&quot;: null, &quot;Type of Property&quot;: &quot;F&quot;, &quot;address&quot;: &quot;Case Lane and Edwards Boulevard, Millsboro, DE  19966&quot;, &quot;census tract&quot;: &quot;506.04&quot;, &quot;input addresses&quot;: &quot;Case Lane and Edwards Boulevard, Millsboro, DE  19966&quot;, &quot;lat&quot;: -75.29199711143387, &quot;lot&quot;: 38.586581654826816}, &quot;type&quot;: &quot;Feature&quot;}, {&quot;bbox&quot;: [-75.60315505899996, 38.74303680400004, -75.60315505899996, 38.74303680400004], &quot;geometry&quot;: {&quot;coordinates&quot;: [-75.60315505899996, 38.74303680400004], &quot;type&quot;: &quot;Point&quot;}, &quot;id&quot;: &quot;11&quot;, &quot;properties&quot;: {&quot;# of Tax Credit Units&quot;: &quot;34&quot;, &quot;4% or 9% Allocation&quot;: &quot;0.09&quot;, &quot;ALLOCATION AMOUNT&quot;: &quot;228372&quot;, &quot;ALLOCATION AMOUNT 2&quot;: &quot;207648&quot;, &quot;ALLOCATION DATE&quot;: &quot;12/11/2017&quot;, &quot;Applicable Credit Rate&quot;: &quot;9&quot;, &quot;Applicable Credit Rate 2&quot;: null, &quot;County&quot;: &quot;Sussex&quot;, &quot;Extended Use Period&quot;: null, &quot;PROJECT NAME \\u0026 ADDRESS&quot;: &quot;MARKET STREET APARTMENTS&quot;, &quot;PROJECT NAME \\u0026 ADDRESS 2&quot;: &quot;(Will receive a forward commitment from 2018)&quot;, &quot;PROJECT NAME \\u0026 ADDRESS 3&quot;: &quot;310 Market Street &quot;, &quot;PROJECT NAME \\u0026 ADDRESS 4&quot;: &quot;Bridgeville, DE  19933&quot;, &quot;PROJECT NAME \\u0026 ADDRESS 5&quot;: null, &quot;Placed in Service Date&quot;: null, &quot;Placed in Service Date 2&quot;: null, &quot;Status Active/Non&quot;: &quot;Carryover&quot;, &quot;Tax Allocation Year&quot;: 2017, &quot;Tax Credit Compliance Date&quot;: null, &quot;Type of Property&quot;: &quot;S&quot;, &quot;address&quot;: &quot;310 Market Street , Bridgeville, DE  19933&quot;, &quot;census tract&quot;: &quot;503.04&quot;, &quot;input addresses&quot;: &quot;310 Market Street , Bridgeville, DE  19933&quot;, &quot;lat&quot;: -75.60315505899996, &quot;lot&quot;: 38.74303680400004}, &quot;type&quot;: &quot;Feature&quot;}, {&quot;bbox&quot;: [-75.55677586399997, 39.75255180100004, -75.55677586399997, 39.75255180100004], &quot;geometry&quot;: {&quot;coordinates&quot;: [-75.55677586399997, 39.75255180100004], &quot;type&quot;: &quot;Point&quot;}, &quot;id&quot;: &quot;12&quot;, &quot;properties&quot;: {&quot;# of Tax Credit Units&quot;: &quot;50&quot;, &quot;4% or 9% Allocation&quot;: null, &quot;ALLOCATION AMOUNT&quot;: &quot;881051&quot;, &quot;ALLOCATION AMOUNT 2&quot;: null, &quot;ALLOCATION DATE&quot;: &quot;12/17/2018&quot;, &quot;Applicable Credit Rate&quot;: &quot;9 (Const.)&quot;, &quot;Applicable Credit Rate 2&quot;: &quot;3.45 (Acq)&quot;, &quot;County&quot;: &quot;New Castle&quot;, &quot;Extended Use Period&quot;: null, &quot;PROJECT NAME \\u0026 ADDRESS&quot;: &quot;BIRCHWOOD AT RODNEY COURT&quot;, &quot;PROJECT NAME \\u0026 ADDRESS 2&quot;: &quot;(See 2019)&quot;, &quot;PROJECT NAME \\u0026 ADDRESS 3&quot;: &quot;Rcv\\u0027d Rev Proc Extension&quot;, &quot;PROJECT NAME \\u0026 ADDRESS 4&quot;: &quot;1100 Pennsylvania Ave.&quot;, &quot;PROJECT NAME \\u0026 ADDRESS 5&quot;: &quot;Wilmington, DE 19806&quot;, &quot;Placed in Service Date&quot;: null, &quot;Placed in Service Date 2&quot;: null, &quot;Status Active/Non&quot;: &quot;Active&quot;, &quot;Tax Allocation Year&quot;: 2018, &quot;Tax Credit Compliance Date&quot;: null, &quot;Type of Property&quot;: &quot;S&quot;, &quot;address&quot;: &quot;1100 Pennsylvania Ave., Wilmington, DE 19806&quot;, &quot;census tract&quot;: &quot;15&quot;, &quot;input addresses&quot;: &quot;1100 Pennsylvania Ave., Wilmington, DE 19806&quot;, &quot;lat&quot;: -75.55677586399997, &quot;lot&quot;: 39.75255180100004}, &quot;type&quot;: &quot;Feature&quot;}, {&quot;bbox&quot;: [-75.60355403255836, 38.65666798253389, -75.60355403255836, 38.65666798253389], &quot;geometry&quot;: {&quot;coordinates&quot;: [-75.60355403255836, 38.65666798253389], &quot;type&quot;: &quot;Point&quot;}, &quot;id&quot;: &quot;14&quot;, &quot;properties&quot;: {&quot;# of Tax Credit Units&quot;: &quot;34&quot;, &quot;4% or 9% Allocation&quot;: &quot;0.09&quot;, &quot;ALLOCATION AMOUNT&quot;: &quot;643394&quot;, &quot;ALLOCATION AMOUNT 2&quot;: null, &quot;ALLOCATION DATE&quot;: &quot;12/17/2018&quot;, &quot;Applicable Credit Rate&quot;: &quot;9&quot;, &quot;Applicable Credit Rate 2&quot;: null, &quot;County&quot;: &quot;Sussex&quot;, &quot;Extended Use Period&quot;: null, &quot;PROJECT NAME \\u0026 ADDRESS&quot;: &quot;HERRING RIDGE&quot;, &quot;PROJECT NAME \\u0026 ADDRESS 2&quot;: &quot;Herring Ridge&quot;, &quot;PROJECT NAME \\u0026 ADDRESS 3&quot;: &quot;705 Independence Drive&quot;, &quot;PROJECT NAME \\u0026 ADDRESS 4&quot;: &quot;Seaford, DE 19973&quot;, &quot;PROJECT NAME \\u0026 ADDRESS 5&quot;: null, &quot;Placed in Service Date&quot;: &quot;04/23/2020&quot;, &quot;Placed in Service Date 2&quot;: null, &quot;Status Active/Non&quot;: &quot;Active&quot;, &quot;Tax Allocation Year&quot;: 2018, &quot;Tax Credit Compliance Date&quot;: null, &quot;Type of Property&quot;: null, &quot;address&quot;: &quot;705 Independence Drive, Seaford, DE 19973&quot;, &quot;census tract&quot;: &quot;504.06&quot;, &quot;input addresses&quot;: &quot;705 Independence Drive, Seaford, DE 19973&quot;, &quot;lat&quot;: -75.60355403255836, &quot;lot&quot;: 38.65666798253389}, &quot;type&quot;: &quot;Feature&quot;}, {&quot;bbox&quot;: [-75.60315505899996, 38.74303680400004, -75.60315505899996, 38.74303680400004], &quot;geometry&quot;: {&quot;coordinates&quot;: [-75.60315505899996, 38.74303680400004], &quot;type&quot;: &quot;Point&quot;}, &quot;id&quot;: &quot;16&quot;, &quot;properties&quot;: {&quot;# of Tax Credit Units&quot;: &quot;34&quot;, &quot;4% or 9% Allocation&quot;: &quot;9&quot;, &quot;ALLOCATION AMOUNT&quot;: &quot;282559&quot;, &quot;ALLOCATION AMOUNT 2&quot;: null, &quot;ALLOCATION DATE&quot;: &quot;12/11/2017&quot;, &quot;Applicable Credit Rate&quot;: &quot;9&quot;, &quot;Applicable Credit Rate 2&quot;: null, &quot;County&quot;: &quot;Sussex&quot;, &quot;Extended Use Period&quot;: null, &quot;PROJECT NAME \\u0026 ADDRESS&quot;: &quot;MARKET STREET APARTMENTS (forward committment)&quot;, &quot;PROJECT NAME \\u0026 ADDRESS 2&quot;: &quot;(Returned and Forwarded)&quot;, &quot;PROJECT NAME \\u0026 ADDRESS 3&quot;: &quot;310 Market Street&quot;, &quot;PROJECT NAME \\u0026 ADDRESS 4&quot;: &quot;Bridgeville, DE 19933&quot;, &quot;PROJECT NAME \\u0026 ADDRESS 5&quot;: null, &quot;Placed in Service Date&quot;: null, &quot;Placed in Service Date 2&quot;: null, &quot;Status Active/Non&quot;: null, &quot;Tax Allocation Year&quot;: 2018, &quot;Tax Credit Compliance Date&quot;: null, &quot;Type of Property&quot;: null, &quot;address&quot;: &quot;310 Market Street, Bridgeville, DE 19933&quot;, &quot;census tract&quot;: &quot;503.04&quot;, &quot;input addresses&quot;: &quot;310 Market Street, Bridgeville, DE 19933&quot;, &quot;lat&quot;: -75.60315505899996, &quot;lot&quot;: 38.74303680400004}, &quot;type&quot;: &quot;Feature&quot;}, {&quot;bbox&quot;: [-75.60315505899996, 38.74303680400004, -75.60315505899996, 38.74303680400004], &quot;geometry&quot;: {&quot;coordinates&quot;: [-75.60315505899996, 38.74303680400004], &quot;type&quot;: &quot;Point&quot;}, &quot;id&quot;: &quot;17&quot;, &quot;properties&quot;: {&quot;# of Tax Credit Units&quot;: &quot;34&quot;, &quot;4% or 9% Allocation&quot;: &quot;0.09&quot;, &quot;ALLOCATION AMOUNT&quot;: &quot;510932&quot;, &quot;ALLOCATION AMOUNT 2&quot;: null, &quot;ALLOCATION DATE&quot;: &quot;06/12/2019&quot;, &quot;Applicable Credit Rate&quot;: &quot;9&quot;, &quot;Applicable Credit Rate 2&quot;: null, &quot;County&quot;: &quot;Sussex&quot;, &quot;Extended Use Period&quot;: null, &quot;PROJECT NAME \\u0026 ADDRESS&quot;: &quot;MARKET STREET APARTMENTS&quot;, &quot;PROJECT NAME \\u0026 ADDRESS 2&quot;: &quot;310 Market Street&quot;, &quot;PROJECT NAME \\u0026 ADDRESS 3&quot;: &quot;Bridgeville, DE 19933&quot;, &quot;PROJECT NAME \\u0026 ADDRESS 4&quot;: null, &quot;PROJECT NAME \\u0026 ADDRESS 5&quot;: null, &quot;Placed in Service Date&quot;: &quot;04/22/2020&quot;, &quot;Placed in Service Date 2&quot;: null, &quot;Status Active/Non&quot;: &quot;Active&quot;, &quot;Tax Allocation Year&quot;: 2019, &quot;Tax Credit Compliance Date&quot;: null, &quot;Type of Property&quot;: &quot;S&quot;, &quot;address&quot;: &quot;310 Market Street, Bridgeville, DE 19933&quot;, &quot;census tract&quot;: &quot;503.04&quot;, &quot;input addresses&quot;: &quot;310 Market Street, Bridgeville, DE 19933&quot;, &quot;lat&quot;: -75.60315505899996, &quot;lot&quot;: 38.74303680400004}, &quot;type&quot;: &quot;Feature&quot;}, {&quot;bbox&quot;: [-75.57415858399997, 39.75180082800006, -75.57415858399997, 39.75180082800006], &quot;geometry&quot;: {&quot;coordinates&quot;: [-75.57415858399997, 39.75180082800006], &quot;type&quot;: &quot;Point&quot;}, &quot;id&quot;: &quot;18&quot;, &quot;properties&quot;: {&quot;# of Tax Credit Units&quot;: &quot;77&quot;, &quot;4% or 9% Allocation&quot;: &quot;0.09&quot;, &quot;ALLOCATION AMOUNT&quot;: &quot;1122778&quot;, &quot;ALLOCATION AMOUNT 2&quot;: null, &quot;ALLOCATION DATE&quot;: &quot;12/17/2018&quot;, &quot;Applicable Credit Rate&quot;: &quot;9&quot;, &quot;Applicable Credit Rate 2&quot;: null, &quot;County&quot;: &quot;New Castle&quot;, &quot;Extended Use Period&quot;: null, &quot;PROJECT NAME \\u0026 ADDRESS&quot;: &quot;THE FLATS, PHASE III&quot;, &quot;PROJECT NAME \\u0026 ADDRESS 2&quot;: &quot;Forward Reservation&quot;, &quot;PROJECT NAME \\u0026 ADDRESS 3&quot;: &quot;610 Bayard Avenue&quot;, &quot;PROJECT NAME \\u0026 ADDRESS 4&quot;: &quot;Wilmington, DE 19805&quot;, &quot;PROJECT NAME \\u0026 ADDRESS 5&quot;: null, &quot;Placed in Service Date&quot;: &quot;08/26/2020&quot;, &quot;Placed in Service Date 2&quot;: null, &quot;Status Active/Non&quot;: &quot;Active&quot;, &quot;Tax Allocation Year&quot;: 2018, &quot;Tax Credit Compliance Date&quot;: null, &quot;Type of Property&quot;: &quot;F&quot;, &quot;address&quot;: &quot;610 Bayard Avenue, Wilmington, DE 19805&quot;, &quot;census tract&quot;: &quot;24&quot;, &quot;input addresses&quot;: &quot;610 Bayard Avenue, Wilmington, DE 19805&quot;, &quot;lat&quot;: -75.57415858399997, &quot;lot&quot;: 39.75180082800006}, &quot;type&quot;: &quot;Feature&quot;}, {&quot;bbox&quot;: [-75.55677586399997, 39.75255180100004, -75.55677586399997, 39.75255180100004], &quot;geometry&quot;: {&quot;coordinates&quot;: [-75.55677586399997, 39.75255180100004], &quot;type&quot;: &quot;Point&quot;}, &quot;id&quot;: &quot;19&quot;, &quot;properties&quot;: {&quot;# of Tax Credit Units&quot;: &quot;51&quot;, &quot;4% or 9% Allocation&quot;: &quot;0.09&quot;, &quot;ALLOCATION AMOUNT&quot;: &quot;8135&quot;, &quot;ALLOCATION AMOUNT 2&quot;: null, &quot;ALLOCATION DATE&quot;: &quot;12/23/2019&quot;, &quot;Applicable Credit Rate&quot;: &quot;9&quot;, &quot;Applicable Credit Rate 2&quot;: null, &quot;County&quot;: &quot;New Castle&quot;, &quot;Extended Use Period&quot;: null, &quot;PROJECT NAME \\u0026 ADDRESS&quot;: &quot;BIRCHWOOD AT RODNEY (forward reservation)&quot;, &quot;PROJECT NAME \\u0026 ADDRESS 2&quot;: &quot;$881,051 was from 2018&quot;, &quot;PROJECT NAME \\u0026 ADDRESS 3&quot;: &quot;1100 Pennsylvania Avenue&quot;, &quot;PROJECT NAME \\u0026 ADDRESS 4&quot;: &quot;Wilmington, DE 19806&quot;, &quot;PROJECT NAME \\u0026 ADDRESS 5&quot;: null, &quot;Placed in Service Date&quot;: &quot;03/23/2020&quot;, &quot;Placed in Service Date 2&quot;: &quot;04/13/2019&quot;, &quot;Status Active/Non&quot;: &quot;Active&quot;, &quot;Tax Allocation Year&quot;: 2019, &quot;Tax Credit Compliance Date&quot;: null, &quot;Type of Property&quot;: &quot;S&quot;, &quot;address&quot;: &quot;1100 Pennsylvania Avenue, Wilmington, DE 19806&quot;, &quot;census tract&quot;: &quot;15&quot;, &quot;input addresses&quot;: &quot;1100 Pennsylvania Avenue, Wilmington, DE 19806&quot;, &quot;lat&quot;: -75.55677586399997, &quot;lot&quot;: 39.75255180100004}, &quot;type&quot;: &quot;Feature&quot;}, {&quot;bbox&quot;: [-75.54430621299997, 39.74187410400003, -75.54430621299997, 39.74187410400003], &quot;geometry&quot;: {&quot;coordinates&quot;: [-75.54430621299997, 39.74187410400003], &quot;type&quot;: &quot;Point&quot;}, &quot;id&quot;: &quot;20&quot;, &quot;properties&quot;: {&quot;# of Tax Credit Units&quot;: &quot;75&quot;, &quot;4% or 9% Allocation&quot;: &quot;0.09&quot;, &quot;ALLOCATION AMOUNT&quot;: &quot;1056240&quot;, &quot;ALLOCATION AMOUNT 2&quot;: null, &quot;ALLOCATION DATE&quot;: &quot;12/23/2019&quot;, &quot;Applicable Credit Rate&quot;: &quot;9&quot;, &quot;Applicable Credit Rate 2&quot;: null, &quot;County&quot;: &quot;New Castle&quot;, &quot;Extended Use Period&quot;: null, &quot;PROJECT NAME \\u0026 ADDRESS&quot;: &quot;COMPTON TOWNEHOUSE APARTMENTS&quot;, &quot;PROJECT NAME \\u0026 ADDRESS 2&quot;: &quot;Rcv\\u0027d Rev Proc Extension&quot;, &quot;PROJECT NAME \\u0026 ADDRESS 3&quot;: &quot;831A Towne Court&quot;, &quot;PROJECT NAME \\u0026 ADDRESS 4&quot;: &quot;Wilmington, DE 19801&quot;, &quot;PROJECT NAME \\u0026 ADDRESS 5&quot;: null, &quot;Placed in Service Date&quot;: null, &quot;Placed in Service Date 2&quot;: null, &quot;Status Active/Non&quot;: &quot;Active&quot;, &quot;Tax Allocation Year&quot;: 2019, &quot;Tax Credit Compliance Date&quot;: null, &quot;Type of Property&quot;: &quot;F&quot;, &quot;address&quot;: &quot;831A Towne Court, Wilmington, DE 19801&quot;, &quot;census tract&quot;: &quot;29&quot;, &quot;input addresses&quot;: &quot;831A Towne Court, Wilmington, DE 19801&quot;, &quot;lat&quot;: -75.54430621299997, &quot;lot&quot;: 39.74187410400003}, &quot;type&quot;: &quot;Feature&quot;}, {&quot;bbox&quot;: [-75.55149202027893, 39.74543198465622, -75.55149202027893, 39.74543198465622], &quot;geometry&quot;: {&quot;coordinates&quot;: [-75.55149202027893, 39.74543198465622], &quot;type&quot;: &quot;Point&quot;}, &quot;id&quot;: &quot;21&quot;, &quot;properties&quot;: {&quot;# of Tax Credit Units&quot;: &quot;53&quot;, &quot;4% or 9% Allocation&quot;: &quot;0.09&quot;, &quot;ALLOCATION AMOUNT&quot;: &quot;1056242&quot;, &quot;ALLOCATION AMOUNT 2&quot;: null, &quot;ALLOCATION DATE&quot;: &quot;12/23/2019&quot;, &quot;Applicable Credit Rate&quot;: &quot;9&quot;, &quot;Applicable Credit Rate 2&quot;: null, &quot;County&quot;: &quot;New Castle&quot;, &quot;Extended Use Period&quot;: null, &quot;PROJECT NAME \\u0026 ADDRESS&quot;: &quot;QUAKER ARTS&quot;, &quot;PROJECT NAME \\u0026 ADDRESS 2&quot;: &quot;Rcv\\u0027d Rev Proc Extension&quot;, &quot;PROJECT NAME \\u0026 ADDRESS 3&quot;: &quot;708-10, 801,816, 822 West St.&quot;, &quot;PROJECT NAME \\u0026 ADDRESS 4&quot;: &quot;Wilmington, DE 19801&quot;, &quot;PROJECT NAME \\u0026 ADDRESS 5&quot;: null, &quot;Placed in Service Date&quot;: null, &quot;Placed in Service Date 2&quot;: null, &quot;Status Active/Non&quot;: &quot;Active&quot;, &quot;Tax Allocation Year&quot;: 2019, &quot;Tax Credit Compliance Date&quot;: null, &quot;Type of Property&quot;: &quot;F&quot;, &quot;address&quot;: &quot;708-10, 801,816, 822 West St., Wilmington, DE 19801&quot;, &quot;census tract&quot;: &quot;28&quot;, &quot;input addresses&quot;: &quot;708-10, 801,816, 822 West St., Wilmington, DE 19801&quot;, &quot;lat&quot;: -75.55149202027893, &quot;lot&quot;: 39.74543198465622}, &quot;type&quot;: &quot;Feature&quot;}, {&quot;bbox&quot;: [-75.52361482999999, 39.750524996000024, -75.52361482999999, 39.750524996000024], &quot;geometry&quot;: {&quot;coordinates&quot;: [-75.52361482999999, 39.750524996000024], &quot;type&quot;: &quot;Point&quot;}, &quot;id&quot;: &quot;22&quot;, &quot;properties&quot;: {&quot;# of Tax Credit Units&quot;: &quot;59&quot;, &quot;4% or 9% Allocation&quot;: &quot;0.09&quot;, &quot;ALLOCATION AMOUNT&quot;: &quot;1056240&quot;, &quot;ALLOCATION AMOUNT 2&quot;: null, &quot;ALLOCATION DATE&quot;: &quot;12/23/2019&quot;, &quot;Applicable Credit Rate&quot;: &quot;9&quot;, &quot;Applicable Credit Rate 2&quot;: null, &quot;County&quot;: &quot;New Castle&quot;, &quot;Extended Use Period&quot;: null, &quot;PROJECT NAME \\u0026 ADDRESS&quot;: &quot;RIVERSIDE, PHASE I&quot;, &quot;PROJECT NAME \\u0026 ADDRESS 2&quot;: &quot;Rcv\\u0027d Rev Proc Extension&quot;, &quot;PROJECT NAME \\u0026 ADDRESS 3&quot;: &quot;1400 Todds Lane&quot;, &quot;PROJECT NAME \\u0026 ADDRESS 4&quot;: &quot;Wilmington, DE 19802&quot;, &quot;PROJECT NAME \\u0026 ADDRESS 5&quot;: null, &quot;Placed in Service Date&quot;: null, &quot;Placed in Service Date 2&quot;: null, &quot;Status Active/Non&quot;: &quot;Active&quot;, &quot;Tax Allocation Year&quot;: 2019, &quot;Tax Credit Compliance Date&quot;: null, &quot;Type of Property&quot;: &quot;F&quot;, &quot;address&quot;: &quot;1400 Todds Lane, Wilmington, DE 19802&quot;, &quot;census tract&quot;: &quot;30.02&quot;, &quot;input addresses&quot;: &quot;1400 Todds Lane, Wilmington, DE 19802&quot;, &quot;lat&quot;: -75.52361482999999, &quot;lot&quot;: 39.750524996000024}, &quot;type&quot;: &quot;Feature&quot;}, {&quot;bbox&quot;: [-75.28787380799997, 38.58586587000008, -75.28787380799997, 38.58586587000008], &quot;geometry&quot;: {&quot;coordinates&quot;: [-75.28787380799997, 38.58586587000008], &quot;type&quot;: &quot;Point&quot;}, &quot;id&quot;: &quot;23&quot;, &quot;properties&quot;: {&quot;# of Tax Credit Units&quot;: &quot;42&quot;, &quot;4% or 9% Allocation&quot;: &quot;0.09&quot;, &quot;ALLOCATION AMOUNT&quot;: &quot;1000000&quot;, &quot;ALLOCATION AMOUNT 2&quot;: null, &quot;ALLOCATION DATE&quot;: &quot;12/20/2020&quot;, &quot;Applicable Credit Rate&quot;: &quot;9&quot;, &quot;Applicable Credit Rate 2&quot;: null, &quot;County&quot;: &quot;Sussex&quot;, &quot;Extended Use Period&quot;: null, &quot;PROJECT NAME \\u0026 ADDRESS&quot;: &quot;FOSTER COMMONS&quot;, &quot;PROJECT NAME \\u0026 ADDRESS 2&quot;: &quot;(Received a Forward 2021 Allocation)&quot;, &quot;PROJECT NAME \\u0026 ADDRESS 3&quot;: &quot;Union St. \\u0026 Old Landing Rd&quot;, &quot;PROJECT NAME \\u0026 ADDRESS 4&quot;: &quot;Millsboro, DE 19966&quot;, &quot;PROJECT NAME \\u0026 ADDRESS 5&quot;: null, &quot;Placed in Service Date&quot;: null, &quot;Placed in Service Date 2&quot;: null, &quot;Status Active/Non&quot;: &quot;Active&quot;, &quot;Tax Allocation Year&quot;: 2020, &quot;Tax Credit Compliance Date&quot;: null, &quot;Type of Property&quot;: &quot;F&quot;, &quot;address&quot;: &quot;Union St. \\u0026 Old Landing Rd, Millsboro, DE 19966&quot;, &quot;census tract&quot;: &quot;506.04&quot;, &quot;input addresses&quot;: &quot;Union St. \\u0026 Old Landing Rd, Millsboro, DE 19966&quot;, &quot;lat&quot;: -75.28787380799997, &quot;lot&quot;: 38.58586587000008}, &quot;type&quot;: &quot;Feature&quot;}, {&quot;bbox&quot;: [-75.28787380799997, 38.58586587000008, -75.28787380799997, 38.58586587000008], &quot;geometry&quot;: {&quot;coordinates&quot;: [-75.28787380799997, 38.58586587000008], &quot;type&quot;: &quot;Point&quot;}, &quot;id&quot;: &quot;24&quot;, &quot;properties&quot;: {&quot;# of Tax Credit Units&quot;: &quot;42&quot;, &quot;4% or 9% Allocation&quot;: &quot;0.09&quot;, &quot;ALLOCATION AMOUNT&quot;: &quot;1000000&quot;, &quot;ALLOCATION AMOUNT 2&quot;: null, &quot;ALLOCATION DATE&quot;: &quot;10/19/2021&quot;, &quot;Applicable Credit Rate&quot;: &quot;9&quot;, &quot;Applicable Credit Rate 2&quot;: null, &quot;County&quot;: &quot;Sussex&quot;, &quot;Extended Use Period&quot;: null, &quot;PROJECT NAME \\u0026 ADDRESS&quot;: &quot;FOSTER COMMONS&quot;, &quot;PROJECT NAME \\u0026 ADDRESS 2&quot;: &quot;Union St. \\u0026 Old Landing Rd&quot;, &quot;PROJECT NAME \\u0026 ADDRESS 3&quot;: &quot;Millsboro, DE 19966&quot;, &quot;PROJECT NAME \\u0026 ADDRESS 4&quot;: null, &quot;PROJECT NAME \\u0026 ADDRESS 5&quot;: null, &quot;Placed in Service Date&quot;: null, &quot;Placed in Service Date 2&quot;: null, &quot;Status Active/Non&quot;: &quot;Active&quot;, &quot;Tax Allocation Year&quot;: 2021, &quot;Tax Credit Compliance Date&quot;: null, &quot;Type of Property&quot;: &quot;F&quot;, &quot;address&quot;: &quot;Union St. \\u0026 Old Landing Rd, Millsboro, DE 19966&quot;, &quot;census tract&quot;: &quot;506.04&quot;, &quot;input addresses&quot;: &quot;Union St. \\u0026 Old Landing Rd, Millsboro, DE 19966&quot;, &quot;lat&quot;: -75.28787380799997, &quot;lot&quot;: 38.58586587000008}, &quot;type&quot;: &quot;Feature&quot;}, {&quot;bbox&quot;: [-75.52345422499997, 39.74963277300003, -75.52345422499997, 39.74963277300003], &quot;geometry&quot;: {&quot;coordinates&quot;: [-75.52345422499997, 39.74963277300003], &quot;type&quot;: &quot;Point&quot;}, &quot;id&quot;: &quot;25&quot;, &quot;properties&quot;: {&quot;# of Tax Credit Units&quot;: &quot;50&quot;, &quot;4% or 9% Allocation&quot;: &quot;0.09&quot;, &quot;ALLOCATION AMOUNT&quot;: &quot;621046&quot;, &quot;ALLOCATION AMOUNT 2&quot;: null, &quot;ALLOCATION DATE&quot;: &quot;12/20/2020&quot;, &quot;Applicable Credit Rate&quot;: &quot;9&quot;, &quot;Applicable Credit Rate 2&quot;: null, &quot;County&quot;: &quot;New Castle&quot;, &quot;Extended Use Period&quot;: null, &quot;PROJECT NAME \\u0026 ADDRESS&quot;: &quot;RIVERSIDE, PHASE II&quot;, &quot;PROJECT NAME \\u0026 ADDRESS 2&quot;: &quot;(Received a Forward 2021 Allocation)&quot;, &quot;PROJECT NAME \\u0026 ADDRESS 3&quot;: &quot;2910 Rosemont Avenue&quot;, &quot;PROJECT NAME \\u0026 ADDRESS 4&quot;: &quot;Wilmington, DE 19802&quot;, &quot;PROJECT NAME \\u0026 ADDRESS 5&quot;: null, &quot;Placed in Service Date&quot;: null, &quot;Placed in Service Date 2&quot;: null, &quot;Status Active/Non&quot;: &quot;Active&quot;, &quot;Tax Allocation Year&quot;: 2020, &quot;Tax Credit Compliance Date&quot;: null, &quot;Type of Property&quot;: &quot;F&quot;, &quot;address&quot;: &quot;2910 Rosemont Avenue, Wilmington, DE 19802&quot;, &quot;census tract&quot;: &quot;30.02&quot;, &quot;input addresses&quot;: &quot;2910 Rosemont Avenue, Wilmington, DE 19802&quot;, &quot;lat&quot;: -75.52345422499997, &quot;lot&quot;: 39.74963277300003}, &quot;type&quot;: &quot;Feature&quot;}, {&quot;bbox&quot;: [-75.52345422499997, 39.74963277300003, -75.52345422499997, 39.74963277300003], &quot;geometry&quot;: {&quot;coordinates&quot;: [-75.52345422499997, 39.74963277300003], &quot;type&quot;: &quot;Point&quot;}, &quot;id&quot;: &quot;26&quot;, &quot;properties&quot;: {&quot;# of Tax Credit Units&quot;: &quot;50&quot;, &quot;4% or 9% Allocation&quot;: &quot;0.09&quot;, &quot;ALLOCATION AMOUNT&quot;: &quot;1000000&quot;, &quot;ALLOCATION AMOUNT 2&quot;: null, &quot;ALLOCATION DATE&quot;: &quot;11/09/2021&quot;, &quot;Applicable Credit Rate&quot;: &quot;9&quot;, &quot;Applicable Credit Rate 2&quot;: null, &quot;County&quot;: &quot;New Castle&quot;, &quot;Extended Use Period&quot;: null, &quot;PROJECT NAME \\u0026 ADDRESS&quot;: &quot;RIVERSIDE, PHASE II&quot;, &quot;PROJECT NAME \\u0026 ADDRESS 2&quot;: &quot;2910 Rosemont Avenue&quot;, &quot;PROJECT NAME \\u0026 ADDRESS 3&quot;: &quot;Wilmington, DE 19802&quot;, &quot;PROJECT NAME \\u0026 ADDRESS 4&quot;: null, &quot;PROJECT NAME \\u0026 ADDRESS 5&quot;: null, &quot;Placed in Service Date&quot;: null, &quot;Placed in Service Date 2&quot;: null, &quot;Status Active/Non&quot;: &quot;Active&quot;, &quot;Tax Allocation Year&quot;: 2021, &quot;Tax Credit Compliance Date&quot;: null, &quot;Type of Property&quot;: &quot;F&quot;, &quot;address&quot;: &quot;2910 Rosemont Avenue, Wilmington, DE 19802&quot;, &quot;census tract&quot;: &quot;30.02&quot;, &quot;input addresses&quot;: &quot;2910 Rosemont Avenue, Wilmington, DE 19802&quot;, &quot;lat&quot;: -75.52345422499997, &quot;lot&quot;: 39.74963277300003}, &quot;type&quot;: &quot;Feature&quot;}, {&quot;bbox&quot;: [-75.57042688699994, 38.92068564700003, -75.57042688699994, 38.92068564700003], &quot;geometry&quot;: {&quot;coordinates&quot;: [-75.57042688699994, 38.92068564700003], &quot;type&quot;: &quot;Point&quot;}, &quot;id&quot;: &quot;27&quot;, &quot;properties&quot;: {&quot;# of Tax Credit Units&quot;: &quot;32&quot;, &quot;4% or 9% Allocation&quot;: &quot;0.09&quot;, &quot;ALLOCATION AMOUNT&quot;: &quot;608080&quot;, &quot;ALLOCATION AMOUNT 2&quot;: null, &quot;ALLOCATION DATE&quot;: &quot;12/20/2020&quot;, &quot;Applicable Credit Rate&quot;: &quot;9&quot;, &quot;Applicable Credit Rate 2&quot;: null, &quot;County&quot;: &quot;Kent&quot;, &quot;Extended Use Period&quot;: null, &quot;PROJECT NAME \\u0026 ADDRESS&quot;: &quot;DIAMOND COURT II&quot;, &quot;PROJECT NAME \\u0026 ADDRESS 2&quot;: &quot;(Recved a 2021 Forward Allocation)&quot;, &quot;PROJECT NAME \\u0026 ADDRESS 3&quot;: &quot;35 Diamond Court&quot;, &quot;PROJECT NAME \\u0026 ADDRESS 4&quot;: &quot;Harrington, DE 19952&quot;, &quot;PROJECT NAME \\u0026 ADDRESS 5&quot;: null, &quot;Placed in Service Date&quot;: null, &quot;Placed in Service Date 2&quot;: null, &quot;Status Active/Non&quot;: &quot;Active&quot;, &quot;Tax Allocation Year&quot;: 2020, &quot;Tax Credit Compliance Date&quot;: null, &quot;Type of Property&quot;: &quot;S&quot;, &quot;address&quot;: &quot;35 Diamond Court, Harrington, DE 19952&quot;, &quot;census tract&quot;: &quot;430&quot;, &quot;input addresses&quot;: &quot;35 Diamond Court, Harrington, DE 19952&quot;, &quot;lat&quot;: -75.57042688699994, &quot;lot&quot;: 38.92068564700003}, &quot;type&quot;: &quot;Feature&quot;}, {&quot;bbox&quot;: [-75.57042688699994, 38.92068564700003, -75.57042688699994, 38.92068564700003], &quot;geometry&quot;: {&quot;coordinates&quot;: [-75.57042688699994, 38.92068564700003], &quot;type&quot;: &quot;Point&quot;}, &quot;id&quot;: &quot;28&quot;, &quot;properties&quot;: {&quot;# of Tax Credit Units&quot;: &quot;32&quot;, &quot;4% or 9% Allocation&quot;: &quot;0.09&quot;, &quot;ALLOCATION AMOUNT&quot;: &quot;668257&quot;, &quot;ALLOCATION AMOUNT 2&quot;: null, &quot;ALLOCATION DATE&quot;: &quot;11/09/2021&quot;, &quot;Applicable Credit Rate&quot;: &quot;9&quot;, &quot;Applicable Credit Rate 2&quot;: null, &quot;County&quot;: &quot;Kent&quot;, &quot;Extended Use Period&quot;: null, &quot;PROJECT NAME \\u0026 ADDRESS&quot;: &quot;DIAMOND COURT II&quot;, &quot;PROJECT NAME \\u0026 ADDRESS 2&quot;: &quot;35 Diamond Court&quot;, &quot;PROJECT NAME \\u0026 ADDRESS 3&quot;: &quot;Harrington, DE 19952&quot;, &quot;PROJECT NAME \\u0026 ADDRESS 4&quot;: null, &quot;PROJECT NAME \\u0026 ADDRESS 5&quot;: null, &quot;Placed in Service Date&quot;: null, &quot;Placed in Service Date 2&quot;: null, &quot;Status Active/Non&quot;: &quot;Active&quot;, &quot;Tax Allocation Year&quot;: 2021, &quot;Tax Credit Compliance Date&quot;: null, &quot;Type of Property&quot;: &quot;S&quot;, &quot;address&quot;: &quot;35 Diamond Court, Harrington, DE 19952&quot;, &quot;census tract&quot;: &quot;430&quot;, &quot;input addresses&quot;: &quot;35 Diamond Court, Harrington, DE 19952&quot;, &quot;lat&quot;: -75.57042688699994, &quot;lot&quot;: 38.92068564700003}, &quot;type&quot;: &quot;Feature&quot;}, {&quot;bbox&quot;: [-75.57484348699995, 39.752003322000064, -75.57484348699995, 39.752003322000064], &quot;geometry&quot;: {&quot;coordinates&quot;: [-75.57484348699995, 39.752003322000064], &quot;type&quot;: &quot;Point&quot;}, &quot;id&quot;: &quot;29&quot;, &quot;properties&quot;: {&quot;# of Tax Credit Units&quot;: &quot;52&quot;, &quot;4% or 9% Allocation&quot;: &quot;0.09&quot;, &quot;ALLOCATION AMOUNT&quot;: &quot;1000000&quot;, &quot;ALLOCATION AMOUNT 2&quot;: null, &quot;ALLOCATION DATE&quot;: &quot;12/20/2020&quot;, &quot;Applicable Credit Rate&quot;: &quot;9&quot;, &quot;Applicable Credit Rate 2&quot;: null, &quot;County&quot;: &quot;New Castle&quot;, &quot;Extended Use Period&quot;: null, &quot;PROJECT NAME \\u0026 ADDRESS&quot;: &quot;THE FLATS, PHASE IV&quot;, &quot;PROJECT NAME \\u0026 ADDRESS 2&quot;: &quot;(Received a 2021 Forward Allocation)&quot;, &quot;PROJECT NAME \\u0026 ADDRESS 3&quot;: &quot;600 Block Ferris St. and Bayard Ave.&quot;, &quot;PROJECT NAME \\u0026 ADDRESS 4&quot;: &quot;Wilmington, DE 19805&quot;, &quot;PROJECT NAME \\u0026 ADDRESS 5&quot;: null, &quot;Placed in Service Date&quot;: null, &quot;Placed in Service Date 2&quot;: null, &quot;Status Active/Non&quot;: &quot;Active&quot;, &quot;Tax Allocation Year&quot;: 2020, &quot;Tax Credit Compliance Date&quot;: null, &quot;Type of Property&quot;: &quot;F&quot;, &quot;address&quot;: &quot;600 Block Ferris St. and Bayard Ave., Wilmington, DE 19805&quot;, &quot;census tract&quot;: &quot;24&quot;, &quot;input addresses&quot;: &quot;600 Block Ferris St. and Bayard Ave., Wilmington, DE 19805&quot;, &quot;lat&quot;: -75.57484348699995, &quot;lot&quot;: 39.752003322000064}, &quot;type&quot;: &quot;Feature&quot;}, {&quot;bbox&quot;: [-75.57484348699995, 39.752003322000064, -75.57484348699995, 39.752003322000064], &quot;geometry&quot;: {&quot;coordinates&quot;: [-75.57484348699995, 39.752003322000064], &quot;type&quot;: &quot;Point&quot;}, &quot;id&quot;: &quot;30&quot;, &quot;properties&quot;: {&quot;# of Tax Credit Units&quot;: &quot;52&quot;, &quot;4% or 9% Allocation&quot;: &quot;0.09&quot;, &quot;ALLOCATION AMOUNT&quot;: &quot;1000000&quot;, &quot;ALLOCATION AMOUNT 2&quot;: null, &quot;ALLOCATION DATE&quot;: &quot;11/09/2021&quot;, &quot;Applicable Credit Rate&quot;: &quot;9&quot;, &quot;Applicable Credit Rate 2&quot;: null, &quot;County&quot;: &quot;New Castle&quot;, &quot;Extended Use Period&quot;: null, &quot;PROJECT NAME \\u0026 ADDRESS&quot;: &quot;THE FLATS, PHASE IV&quot;, &quot;PROJECT NAME \\u0026 ADDRESS 2&quot;: &quot;600 Block Ferris St. and Bayard Ave.&quot;, &quot;PROJECT NAME \\u0026 ADDRESS 3&quot;: &quot;Wilmington, DE 19805&quot;, &quot;PROJECT NAME \\u0026 ADDRESS 4&quot;: null, &quot;PROJECT NAME \\u0026 ADDRESS 5&quot;: null, &quot;Placed in Service Date&quot;: null, &quot;Placed in Service Date 2&quot;: null, &quot;Status Active/Non&quot;: &quot;Active&quot;, &quot;Tax Allocation Year&quot;: 2021, &quot;Tax Credit Compliance Date&quot;: null, &quot;Type of Property&quot;: &quot;F&quot;, &quot;address&quot;: &quot;600 Block Ferris St. and Bayard Ave., Wilmington, DE 19805&quot;, &quot;census tract&quot;: &quot;24&quot;, &quot;input addresses&quot;: &quot;600 Block Ferris St. and Bayard Ave., Wilmington, DE 19805&quot;, &quot;lat&quot;: -75.57484348699995, &quot;lot&quot;: 39.752003322000064}, &quot;type&quot;: &quot;Feature&quot;}, {&quot;bbox&quot;: [-75.71770725399995, 39.452868583000054, -75.71770725399995, 39.452868583000054], &quot;geometry&quot;: {&quot;coordinates&quot;: [-75.71770725399995, 39.452868583000054], &quot;type&quot;: &quot;Point&quot;}, &quot;id&quot;: &quot;31&quot;, &quot;properties&quot;: {&quot;# of Tax Credit Units&quot;: &quot;106&quot;, &quot;4% or 9% Allocation&quot;: null, &quot;ALLOCATION AMOUNT&quot;: &quot;656670&quot;, &quot;ALLOCATION AMOUNT 2&quot;: null, &quot;ALLOCATION DATE&quot;: &quot;08/27/2020&quot;, &quot;Applicable Credit Rate&quot;: &quot;4&quot;, &quot;Applicable Credit Rate 2&quot;: null, &quot;County&quot;: &quot;NC and Sussex&quot;, &quot;Extended Use Period&quot;: null, &quot;PROJECT NAME \\u0026 ADDRESS&quot;: &quot;MPH MRB&quot;, &quot;PROJECT NAME \\u0026 ADDRESS 2&quot;: &quot;Paul Drive, Smyrna, DE&quot;, &quot;PROJECT NAME \\u0026 ADDRESS 3&quot;: &quot;320 Monrovia Avenue, Smyrna, DE&quot;, &quot;PROJECT NAME \\u0026 ADDRESS 4&quot;: &quot;400 North Broad St. Middletown, DE&quot;, &quot;PROJECT NAME \\u0026 ADDRESS 5&quot;: null, &quot;Placed in Service Date&quot;: null, &quot;Placed in Service Date 2&quot;: null, &quot;Status Active/Non&quot;: &quot;Ative&quot;, &quot;Tax Allocation Year&quot;: 2020, &quot;Tax Credit Compliance Date&quot;: null, &quot;Type of Property&quot;: &quot;F and S&quot;, &quot;address&quot;: &quot;400 North Broad St. Middletown, DE&quot;, &quot;census tract&quot;: &quot;166.1&quot;, &quot;input addresses&quot;: &quot;400 North Broad St. Middletown, DE&quot;, &quot;lat&quot;: -75.71770725399995, &quot;lot&quot;: 39.452868583000054}, &quot;type&quot;: &quot;Feature&quot;}, {&quot;bbox&quot;: [-75.57048491199998, 38.921252594000066, -75.57048491199998, 38.921252594000066], &quot;geometry&quot;: {&quot;coordinates&quot;: [-75.57048491199998, 38.921252594000066], &quot;type&quot;: &quot;Point&quot;}, &quot;id&quot;: &quot;32&quot;, &quot;properties&quot;: {&quot;# of Tax Credit Units&quot;: &quot;34&quot;, &quot;4% or 9% Allocation&quot;: &quot;0.09&quot;, &quot;ALLOCATION AMOUNT&quot;: &quot;727888&quot;, &quot;ALLOCATION AMOUNT 2&quot;: null, &quot;ALLOCATION DATE&quot;: &quot;12/15/2021&quot;, &quot;Applicable Credit Rate&quot;: &quot;9&quot;, &quot;Applicable Credit Rate 2&quot;: null, &quot;County&quot;: &quot;Kent&quot;, &quot;Extended Use Period&quot;: null, &quot;PROJECT NAME \\u0026 ADDRESS&quot;: &quot;DIAMOND COURT I&quot;, &quot;PROJECT NAME \\u0026 ADDRESS 2&quot;: &quot;32 Diamond Court&quot;, &quot;PROJECT NAME \\u0026 ADDRESS 3&quot;: &quot;Harrington, DE 19952&quot;, &quot;PROJECT NAME \\u0026 ADDRESS 4&quot;: null, &quot;PROJECT NAME \\u0026 ADDRESS 5&quot;: null, &quot;Placed in Service Date&quot;: null, &quot;Placed in Service Date 2&quot;: null, &quot;Status Active/Non&quot;: &quot;Active&quot;, &quot;Tax Allocation Year&quot;: 2021, &quot;Tax Credit Compliance Date&quot;: null, &quot;Type of Property&quot;: &quot;F&quot;, &quot;address&quot;: &quot;32 Diamond Court, Harrington, DE 19952&quot;, &quot;census tract&quot;: &quot;430&quot;, &quot;input addresses&quot;: &quot;32 Diamond Court, Harrington, DE 19952&quot;, &quot;lat&quot;: -75.57048491199998, &quot;lot&quot;: 38.921252594000066}, &quot;type&quot;: &quot;Feature&quot;}, {&quot;bbox&quot;: [-75.58331970299997, 38.92434515400004, -75.58331970299997, 38.92434515400004], &quot;geometry&quot;: {&quot;coordinates&quot;: [-75.58331970299997, 38.92434515400004], &quot;type&quot;: &quot;Point&quot;}, &quot;id&quot;: &quot;33&quot;, &quot;properties&quot;: {&quot;# of Tax Credit Units&quot;: &quot;60&quot;, &quot;4% or 9% Allocation&quot;: &quot;0.09&quot;, &quot;ALLOCATION AMOUNT&quot;: &quot;1009240&quot;, &quot;ALLOCATION AMOUNT 2&quot;: null, &quot;ALLOCATION DATE&quot;: &quot;12/15/2021&quot;, &quot;Applicable Credit Rate&quot;: &quot;9&quot;, &quot;Applicable Credit Rate 2&quot;: null, &quot;County&quot;: &quot;Kent&quot;, &quot;Extended Use Period&quot;: null, &quot;PROJECT NAME \\u0026 ADDRESS&quot;: &quot;MAXWELL FIELDS &quot;, &quot;PROJECT NAME \\u0026 ADDRESS 2&quot;: &quot;700 Mason Avenue&quot;, &quot;PROJECT NAME \\u0026 ADDRESS 3&quot;: &quot;Harrington, DE 19952&quot;, &quot;PROJECT NAME \\u0026 ADDRESS 4&quot;: null, &quot;PROJECT NAME \\u0026 ADDRESS 5&quot;: null, &quot;Placed in Service Date&quot;: null, &quot;Placed in Service Date 2&quot;: null, &quot;Status Active/Non&quot;: &quot;Active&quot;, &quot;Tax Allocation Year&quot;: 2021, &quot;Tax Credit Compliance Date&quot;: null, &quot;Type of Property&quot;: &quot;S&quot;, &quot;address&quot;: &quot;700 Mason Avenue, Harrington, DE 19952&quot;, &quot;census tract&quot;: &quot;430&quot;, &quot;input addresses&quot;: &quot;700 Mason Avenue, Harrington, DE 19952&quot;, &quot;lat&quot;: -75.58331970299997, &quot;lot&quot;: 38.92434515400004}, &quot;type&quot;: &quot;Feature&quot;}, {&quot;bbox&quot;: [-75.55758075999995, 39.74299849200003, -75.55758075999995, 39.74299849200003], &quot;geometry&quot;: {&quot;coordinates&quot;: [-75.55758075999995, 39.74299849200003], &quot;type&quot;: &quot;Point&quot;}, &quot;id&quot;: &quot;34&quot;, &quot;properties&quot;: {&quot;# of Tax Credit Units&quot;: &quot;77&quot;, &quot;4% or 9% Allocation&quot;: &quot;0.04&quot;, &quot;ALLOCATION AMOUNT&quot;: &quot;TBD&quot;, &quot;ALLOCATION AMOUNT 2&quot;: null, &quot;ALLOCATION DATE&quot;: null, &quot;Applicable Credit Rate&quot;: &quot;4&quot;, &quot;Applicable Credit Rate 2&quot;: null, &quot;County&quot;: &quot;New Castle&quot;, &quot;Extended Use Period&quot;: null, &quot;PROJECT NAME \\u0026 ADDRESS&quot;: &quot;CHRISTIANA VILLAGE MRB&quot;, &quot;PROJECT NAME \\u0026 ADDRESS 2&quot;: &quot;701 W. 4th Street, Unit A&quot;, &quot;PROJECT NAME \\u0026 ADDRESS 3&quot;: &quot;Wilmingont, DE 19801&quot;, &quot;PROJECT NAME \\u0026 ADDRESS 4&quot;: null, &quot;PROJECT NAME \\u0026 ADDRESS 5&quot;: null, &quot;Placed in Service Date&quot;: null, &quot;Placed in Service Date 2&quot;: null, &quot;Status Active/Non&quot;: &quot;Active&quot;, &quot;Tax Allocation Year&quot;: 2021, &quot;Tax Credit Compliance Date&quot;: null, &quot;Type of Property&quot;: &quot;F&quot;, &quot;address&quot;: &quot;701 W. 4th Street, Unit A, Wilmingont, DE 19801&quot;, &quot;census tract&quot;: &quot;21&quot;, &quot;input addresses&quot;: &quot;701 W. 4th Street, Unit A, Wilmingont, DE 19801&quot;, &quot;lat&quot;: -75.55758075999995, &quot;lot&quot;: 39.74299849200003}, &quot;type&quot;: &quot;Feature&quot;}, {&quot;bbox&quot;: [-75.59817958995916, 39.3016806789212, -75.59817958995916, 39.3016806789212], &quot;geometry&quot;: {&quot;coordinates&quot;: [-75.59817958995916, 39.3016806789212], &quot;type&quot;: &quot;Point&quot;}, &quot;id&quot;: &quot;35&quot;, &quot;properties&quot;: {&quot;# of Tax Credit Units&quot;: &quot;54&quot;, &quot;4% or 9% Allocation&quot;: &quot;0.04&quot;, &quot;ALLOCATION AMOUNT&quot;: &quot;TBD&quot;, &quot;ALLOCATION AMOUNT 2&quot;: null, &quot;ALLOCATION DATE&quot;: null, &quot;Applicable Credit Rate&quot;: &quot;4&quot;, &quot;Applicable Credit Rate 2&quot;: null, &quot;County&quot;: &quot;Kent&quot;, &quot;Extended Use Period&quot;: null, &quot;PROJECT NAME \\u0026 ADDRESS&quot;: &quot;FRAZIER APARTMENTS MRB&quot;, &quot;PROJECT NAME \\u0026 ADDRESS 2&quot;: &quot;200 Goldbsorough Way&quot;, &quot;PROJECT NAME \\u0026 ADDRESS 3&quot;: &quot;Smyrna, DE 19977&quot;, &quot;PROJECT NAME \\u0026 ADDRESS 4&quot;: null, &quot;PROJECT NAME \\u0026 ADDRESS 5&quot;: null, &quot;Placed in Service Date&quot;: null, &quot;Placed in Service Date 2&quot;: null, &quot;Status Active/Non&quot;: &quot;Active&quot;, &quot;Tax Allocation Year&quot;: 2021, &quot;Tax Credit Compliance Date&quot;: null, &quot;Type of Property&quot;: &quot;F&quot;, &quot;address&quot;: &quot;200 Goldbsorough Way, Smyrna, DE 19977&quot;, &quot;census tract&quot;: &quot;402.03&quot;, &quot;input addresses&quot;: &quot;200 Goldbsorough Way, Smyrna, DE 19977&quot;, &quot;lat&quot;: -75.59817958995916, &quot;lot&quot;: 39.3016806789212}, &quot;type&quot;: &quot;Feature&quot;}, {&quot;bbox&quot;: [-75.54157295988014, 39.75122299965062, -75.54157295988014, 39.75122299965062], &quot;geometry&quot;: {&quot;coordinates&quot;: [-75.54157295988014, 39.75122299965062], &quot;type&quot;: &quot;Point&quot;}, &quot;id&quot;: &quot;36&quot;, &quot;properties&quot;: {&quot;# of Tax Credit Units&quot;: &quot;51&quot;, &quot;4% or 9% Allocation&quot;: &quot;0.09&quot;, &quot;ALLOCATION AMOUNT&quot;: &quot;1000000&quot;, &quot;ALLOCATION AMOUNT 2&quot;: null, &quot;ALLOCATION DATE&quot;: null, &quot;Applicable Credit Rate&quot;: &quot;9&quot;, &quot;Applicable Credit Rate 2&quot;: null, &quot;County&quot;: &quot;New Castle&quot;, &quot;Extended Use Period&quot;: null, &quot;PROJECT NAME \\u0026 ADDRESS&quot;: &quot;VILLA MARIA&quot;, &quot;PROJECT NAME \\u0026 ADDRESS 2&quot;: &quot;55 Race Street&quot;, &quot;PROJECT NAME \\u0026 ADDRESS 3&quot;: &quot;Wilmington, DE 19812&quot;, &quot;PROJECT NAME \\u0026 ADDRESS 4&quot;: null, &quot;PROJECT NAME \\u0026 ADDRESS 5&quot;: null, &quot;Placed in Service Date&quot;: null, &quot;Placed in Service Date 2&quot;: null, &quot;Status Active/Non&quot;: &quot;Active&quot;, &quot;Tax Allocation Year&quot;: 2022, &quot;Tax Credit Compliance Date&quot;: null, &quot;Type of Property&quot;: &quot;S&quot;, &quot;address&quot;: &quot;55 Race Street, Wilmington, DE 19812&quot;, &quot;census tract&quot;: &quot;6.02&quot;, &quot;input addresses&quot;: &quot;55 Race Street, Wilmington, DE 19812&quot;, &quot;lat&quot;: -75.54157295988014, &quot;lot&quot;: 39.75122299965062}, &quot;type&quot;: &quot;Feature&quot;}, {&quot;bbox&quot;: [-75.39663904132165, 38.69126298869554, -75.39663904132165, 38.69126298869554], &quot;geometry&quot;: {&quot;coordinates&quot;: [-75.39663904132165, 38.69126298869554], &quot;type&quot;: &quot;Point&quot;}, &quot;id&quot;: &quot;37&quot;, &quot;properties&quot;: {&quot;# of Tax Credit Units&quot;: &quot;24&quot;, &quot;4% or 9% Allocation&quot;: &quot;0.09&quot;, &quot;ALLOCATION AMOUNT&quot;: &quot;808468&quot;, &quot;ALLOCATION AMOUNT 2&quot;: null, &quot;ALLOCATION DATE&quot;: null, &quot;Applicable Credit Rate&quot;: &quot;9&quot;, &quot;Applicable Credit Rate 2&quot;: null, &quot;County&quot;: &quot;Sussex&quot;, &quot;Extended Use Period&quot;: null, &quot;PROJECT NAME \\u0026 ADDRESS&quot;: &quot;DUNBARTON STATION II APARTMENTS&quot;, &quot;PROJECT NAME \\u0026 ADDRESS 2&quot;: &quot;900-1108 Dunbarton Apts.&quot;, &quot;PROJECT NAME \\u0026 ADDRESS 3&quot;: &quot;Georgetown, DE 19947&quot;, &quot;PROJECT NAME \\u0026 ADDRESS 4&quot;: null, &quot;PROJECT NAME \\u0026 ADDRESS 5&quot;: null, &quot;Placed in Service Date&quot;: null, &quot;Placed in Service Date 2&quot;: null, &quot;Status Active/Non&quot;: &quot;Active&quot;, &quot;Tax Allocation Year&quot;: 2022, &quot;Tax Credit Compliance Date&quot;: null, &quot;Type of Property&quot;: &quot;F&quot;, &quot;address&quot;: &quot;900-1108 Dunbarton Apts., Georgetown, DE 19947&quot;, &quot;census tract&quot;: &quot;505.03&quot;, &quot;input addresses&quot;: &quot;900-1108 Dunbarton Apts., Georgetown, DE 19947&quot;, &quot;lat&quot;: -75.39663904132165, &quot;lot&quot;: 38.69126298869554}, &quot;type&quot;: &quot;Feature&quot;}, {&quot;bbox&quot;: [-75.55602315999994, 39.05392870700007, -75.55602315999994, 39.05392870700007], &quot;geometry&quot;: {&quot;coordinates&quot;: [-75.55602315999994, 39.05392870700007], &quot;type&quot;: &quot;Point&quot;}, &quot;id&quot;: &quot;38&quot;, &quot;properties&quot;: {&quot;# of Tax Credit Units&quot;: &quot;36&quot;, &quot;4% or 9% Allocation&quot;: &quot;0.09&quot;, &quot;ALLOCATION AMOUNT&quot;: &quot;999013&quot;, &quot;ALLOCATION AMOUNT 2&quot;: null, &quot;ALLOCATION DATE&quot;: null, &quot;Applicable Credit Rate&quot;: &quot;9&quot;, &quot;Applicable Credit Rate 2&quot;: null, &quot;County&quot;: &quot;Kent&quot;, &quot;Extended Use Period&quot;: null, &quot;PROJECT NAME \\u0026 ADDRESS&quot;: &quot;THE REESE APARTMENTS&quot;, &quot;PROJECT NAME \\u0026 ADDRESS 2&quot;: &quot;8093 S DuPont Hwy&quot;, &quot;PROJECT NAME \\u0026 ADDRESS 3&quot;: &quot;Felton, DE 19943&quot;, &quot;PROJECT NAME \\u0026 ADDRESS 4&quot;: null, &quot;PROJECT NAME \\u0026 ADDRESS 5&quot;: null, &quot;Placed in Service Date&quot;: null, &quot;Placed in Service Date 2&quot;: null, &quot;Status Active/Non&quot;: &quot;Active&quot;, &quot;Tax Allocation Year&quot;: 2022, &quot;Tax Credit Compliance Date&quot;: null, &quot;Type of Property&quot;: &quot;F&quot;, &quot;address&quot;: &quot;8093 S DuPont Hwy, Felton, DE 19943&quot;, &quot;census tract&quot;: &quot;422.05&quot;, &quot;input addresses&quot;: &quot;8093 S DuPont Hwy, Felton, DE 19943&quot;, &quot;lat&quot;: -75.55602315999994, &quot;lot&quot;: 39.05392870700007}, &quot;type&quot;: &quot;Feature&quot;}, {&quot;bbox&quot;: [-75.57518900166042, 39.750661998871095, -75.57518900166042, 39.750661998871095], &quot;geometry&quot;: {&quot;coordinates&quot;: [-75.57518900166042, 39.750661998871095], &quot;type&quot;: &quot;Point&quot;}, &quot;id&quot;: &quot;39&quot;, &quot;properties&quot;: {&quot;# of Tax Credit Units&quot;: &quot;53&quot;, &quot;4% or 9% Allocation&quot;: &quot;0.09&quot;, &quot;ALLOCATION AMOUNT&quot;: &quot;1000000&quot;, &quot;ALLOCATION AMOUNT 2&quot;: null, &quot;ALLOCATION DATE&quot;: null, &quot;Applicable Credit Rate&quot;: &quot;9&quot;, &quot;Applicable Credit Rate 2&quot;: null, &quot;County&quot;: &quot;New Castle&quot;, &quot;Extended Use Period&quot;: null, &quot;PROJECT NAME \\u0026 ADDRESS&quot;: &quot;THE FLATS, PHASE V&quot;, &quot;PROJECT NAME \\u0026 ADDRESS 2&quot;: &quot;401 Bayard Avenue&quot;, &quot;PROJECT NAME \\u0026 ADDRESS 3&quot;: &quot;Wilmingont, DE 19801&quot;, &quot;PROJECT NAME \\u0026 ADDRESS 4&quot;: null, &quot;PROJECT NAME \\u0026 ADDRESS 5&quot;: null, &quot;Placed in Service Date&quot;: null, &quot;Placed in Service Date 2&quot;: null, &quot;Status Active/Non&quot;: &quot;Active&quot;, &quot;Tax Allocation Year&quot;: 2022, &quot;Tax Credit Compliance Date&quot;: null, &quot;Type of Property&quot;: &quot;S&quot;, &quot;address&quot;: &quot;401 Bayard Avenue, Wilmingont, DE 19801&quot;, &quot;census tract&quot;: &quot;24&quot;, &quot;input addresses&quot;: &quot;401 Bayard Avenue, Wilmingont, DE 19801&quot;, &quot;lat&quot;: -75.57518900166042, &quot;lot&quot;: 39.750661998871095}, &quot;type&quot;: &quot;Feature&quot;}, {&quot;bbox&quot;: [-75.52813601471863, 39.15473102086909, -75.52813601471863, 39.15473102086909], &quot;geometry&quot;: {&quot;coordinates&quot;: [-75.52813601471863, 39.15473102086909], &quot;type&quot;: &quot;Point&quot;}, &quot;id&quot;: &quot;40&quot;, &quot;properties&quot;: {&quot;# of Tax Credit Units&quot;: &quot;110&quot;, &quot;4% or 9% Allocation&quot;: &quot;0.04&quot;, &quot;ALLOCATION AMOUNT&quot;: &quot;TBD&quot;, &quot;ALLOCATION AMOUNT 2&quot;: null, &quot;ALLOCATION DATE&quot;: null, &quot;Applicable Credit Rate&quot;: &quot;4&quot;, &quot;Applicable Credit Rate 2&quot;: null, &quot;County&quot;: &quot;Kent&quot;, &quot;Extended Use Period&quot;: null, &quot;PROJECT NAME \\u0026 ADDRESS&quot;: &quot;OWENS/QUEENS MANOR MRB&quot;, &quot;PROJECT NAME \\u0026 ADDRESS 2&quot;: &quot;426 New St. / 411 S. Queen St&quot;, &quot;PROJECT NAME \\u0026 ADDRESS 3&quot;: &quot;Dover, DE 19901&quot;, &quot;PROJECT NAME \\u0026 ADDRESS 4&quot;: null, &quot;PROJECT NAME \\u0026 ADDRESS 5&quot;: null, &quot;Placed in Service Date&quot;: null, &quot;Placed in Service Date 2&quot;: null, &quot;Status Active/Non&quot;: &quot;Active&quot;, &quot;Tax Allocation Year&quot;: 2022, &quot;Tax Credit Compliance Date&quot;: null, &quot;Type of Property&quot;: &quot;S&quot;, &quot;address&quot;: &quot;426 New St. / 411 S. Queen St, Dover, DE 19901&quot;, &quot;census tract&quot;: &quot;414&quot;, &quot;input addresses&quot;: &quot;426 New St. / 411 S. Queen St, Dover, DE 19901&quot;, &quot;lat&quot;: -75.52813601471863, &quot;lot&quot;: 39.15473102086909}, &quot;type&quot;: &quot;Feature&quot;}, {&quot;bbox&quot;: [-75.51446303516369, 39.755461979543526, -75.51446303516369, 39.755461979543526], &quot;geometry&quot;: {&quot;coordinates&quot;: [-75.51446303516369, 39.755461979543526], &quot;type&quot;: &quot;Point&quot;}, &quot;id&quot;: &quot;41&quot;, &quot;properties&quot;: {&quot;# of Tax Credit Units&quot;: &quot;60&quot;, &quot;4% or 9% Allocation&quot;: &quot;0.04&quot;, &quot;ALLOCATION AMOUNT&quot;: &quot;TBD&quot;, &quot;ALLOCATION AMOUNT 2&quot;: null, &quot;ALLOCATION DATE&quot;: null, &quot;Applicable Credit Rate&quot;: &quot;4&quot;, &quot;Applicable Credit Rate 2&quot;: null, &quot;County&quot;: &quot;New Castle&quot;, &quot;Extended Use Period&quot;: null, &quot;PROJECT NAME \\u0026 ADDRESS&quot;: &quot;CAROLYN CENTER MRB&quot;, &quot;PROJECT NAME \\u0026 ADDRESS 2&quot;: &quot;25 Kiwanis Drive&quot;, &quot;PROJECT NAME \\u0026 ADDRESS 3&quot;: &quot;Wilmington, DE 19802&quot;, &quot;PROJECT NAME \\u0026 ADDRESS 4&quot;: null, &quot;PROJECT NAME \\u0026 ADDRESS 5&quot;: null, &quot;Placed in Service Date&quot;: null, &quot;Placed in Service Date 2&quot;: null, &quot;Status Active/Non&quot;: &quot;Active&quot;, &quot;Tax Allocation Year&quot;: 2022, &quot;Tax Credit Compliance Date&quot;: null, &quot;Type of Property&quot;: &quot;SP&quot;, &quot;address&quot;: &quot;25 Kiwanis Drive, Wilmington, DE 19802&quot;, &quot;census tract&quot;: &quot;107.04&quot;, &quot;input addresses&quot;: &quot;25 Kiwanis Drive, Wilmington, DE 19802&quot;, &quot;lat&quot;: -75.51446303516369, &quot;lot&quot;: 39.755461979543526}, &quot;type&quot;: &quot;Feature&quot;}], &quot;type&quot;: &quot;FeatureCollection&quot;});\n",
       "\n",
       "        \n",
       "&lt;/script&gt;\n",
       "&lt;/html&gt;\" style=\"position:absolute;width:100%;height:100%;left:0;top:0;border:none !important;\" allowfullscreen webkitallowfullscreen mozallowfullscreen></iframe></div></div>"
      ],
      "text/plain": [
       "<folium.folium.Map at 0x13f0caa90>"
      ]
     },
     "execution_count": 16,
     "metadata": {},
     "output_type": "execute_result"
    }
   ],
   "source": [
    "# Visualize points on a map\n",
    "\n",
    "# initialize the map and store it in a folium map object\n",
    "us_map = folium.Map(location=[39.74503, -75.57203], zoom_start=14, tiles=None)\n",
    "\n",
    "# Add background tiles\n",
    "folium.TileLayer('CartoDB positron',name=\"Light Map\",control=False).add_to(us_map)\n",
    "\n",
    "\n",
    "# Add markers for each school\n",
    "points=folium.features.GeoJson(\n",
    "        geolocated_data.loc[geolocated_data[\"census tract\"] != \"Unable To Geolocate The Address\"], # Full geopandas data\n",
    "        control=False,\n",
    "        marker = folium.CircleMarker(radius = 5, # Radius in metres\n",
    "                           weight = 0, #outline weight\n",
    "                           fill_color = '#d95f02', \n",
    "                           fill_opacity = 1)\n",
    "        )\n",
    "\n",
    "points.add_to(us_map)\n",
    "us_map"
   ]
  },
  {
   "cell_type": "code",
   "execution_count": 17,
   "id": "1f5c0202",
   "metadata": {},
   "outputs": [],
   "source": [
    "# extract shape files for senate districts\n",
    "senate_districts = gpd.read_file(\"data/Enacted-Senate-EsriShp (1).zip\")\n",
    "\n",
    "# Gets the senate district containing a point\n",
    "def get_district(x):\n",
    "    # Return a blank when an address could not be geolocated\n",
    "    if x[\"census tract\"] == \"Unable To Geolocate The Address\":\n",
    "        return \"\"\n",
    "    # Return the senate district containing the point otherwise\n",
    "    else:\n",
    "        return senate_districts.loc[x[\"geometry\"].within(senate_districts[\"geometry\"])][\"DISTRICT\"].values[0]\n",
    "\n",
    "# Add a column for senate district\n",
    "geolocated_data[\"Senate District\"] = geolocated_data.apply(get_district, axis=1)"
   ]
  },
  {
   "cell_type": "code",
   "execution_count": 18,
   "id": "245cc71a",
   "metadata": {},
   "outputs": [],
   "source": [
    "geolocated_data.drop(columns=[\"input addresses\", \"census tract\", \"lot\", \"lat\"]).to_file(\"data/DSHA_districted.geojson\", driver=\"GeoJSON\")"
   ]
  },
  {
   "cell_type": "code",
   "execution_count": 19,
   "id": "54d2f323",
   "metadata": {},
   "outputs": [
    {
     "data": {
      "text/plain": [
       "Index(['PROJECT NAME & ADDRESS', 'ALLOCATION AMOUNT', 'ALLOCATION DATE',\n",
       "       'Placed in Service Date', '4% or 9% Allocation',\n",
       "       'Applicable Credit Rate', 'Status Active/Non', '# of Tax Credit Units',\n",
       "       'Type of Property', 'County', 'Tax Credit Compliance Date',\n",
       "       'Extended Use Period', 'Tax Allocation Year',\n",
       "       'PROJECT NAME & ADDRESS 2', 'ALLOCATION AMOUNT 2',\n",
       "       'Placed in Service Date 2', 'Applicable Credit Rate 2',\n",
       "       'PROJECT NAME & ADDRESS 3', 'PROJECT NAME & ADDRESS 4',\n",
       "       'PROJECT NAME & ADDRESS 5', 'address', 'geometry', 'Senate District'],\n",
       "      dtype='object')"
      ]
     },
     "execution_count": 19,
     "metadata": {},
     "output_type": "execute_result"
    }
   ],
   "source": [
    "geolocated_data.drop(columns=[\"input addresses\", \"census tract\", \"lot\", \"lat\"]).columns"
   ]
  },
  {
   "cell_type": "code",
   "execution_count": 25,
   "id": "3089510f",
   "metadata": {},
   "outputs": [
    {
     "name": "stderr",
     "output_type": "stream",
     "text": [
      "/var/folders/9r/738fljg527g64ktptsnnzlpw0000gn/T/ipykernel_1341/2870917187.py:2: FutureWarning: The default value of numeric_only in DataFrameGroupBy.sum is deprecated. In a future version, numeric_only will default to False. Either specify numeric_only or select only columns which should be valid for the function.\n",
      "  geolocated_data.groupby(\"Senate District\").sum()[\"# of Tax Credit Units\"].reset_index().to_csv(\"data/Tax_Credit_Units_per_Senate_District.csv\", index=False)\n"
     ]
    }
   ],
   "source": [
    "geolocated_data['# of Tax Credit Units'] = geolocated_data['# of Tax Credit Units'].astype(int)\n",
    "geolocated_data.groupby(\"Senate District\").sum()[\"# of Tax Credit Units\"].reset_index().to_csv(\"data/Tax_Credit_Units_per_Senate_District.csv\", index=False)"
   ]
  },
  {
   "cell_type": "code",
   "execution_count": 27,
   "id": "cdab10b1",
   "metadata": {},
   "outputs": [
    {
     "name": "stderr",
     "output_type": "stream",
     "text": [
      "/Users/emiller/opt/miniconda3/envs/DSHA/lib/python3.11/site-packages/geopandas/geodataframe.py:1443: SettingWithCopyWarning: \n",
      "A value is trying to be set on a copy of a slice from a DataFrame.\n",
      "Try using .loc[row_indexer,col_indexer] = value instead\n",
      "\n",
      "See the caveats in the documentation: https://pandas.pydata.org/pandas-docs/stable/user_guide/indexing.html#returning-a-view-versus-a-copy\n",
      "  super().__setitem__(key, value)\n",
      "/var/folders/9r/738fljg527g64ktptsnnzlpw0000gn/T/ipykernel_1341/714395609.py:3: FutureWarning: The default value of numeric_only in DataFrameGroupBy.sum is deprecated. In a future version, numeric_only will default to False. Either specify numeric_only or select only columns which should be valid for the function.\n",
      "  data_noTBD.groupby(\"Senate District\").sum()[\"ALLOCATION AMOUNT\"].reset_index().to_csv(\"data/Allocation_Amount_per_Senate_District.csv\", index=False)\n"
     ]
    }
   ],
   "source": [
    "data_noTBD = geolocated_data.loc[geolocated_data['ALLOCATION AMOUNT'] != \"TBD\"]\n",
    "data_noTBD[\"ALLOCATION AMOUNT\"] = data_noTBD['ALLOCATION AMOUNT'].astype(int)\n",
    "data_noTBD.groupby(\"Senate District\").sum()[\"ALLOCATION AMOUNT\"].reset_index().to_csv(\"data/Allocation_Amount_per_Senate_District.csv\", index=False)"
   ]
  },
  {
   "cell_type": "code",
   "execution_count": null,
   "id": "249bc2d2",
   "metadata": {},
   "outputs": [],
   "source": []
  },
  {
   "cell_type": "code",
   "execution_count": null,
   "id": "4226d6d8",
   "metadata": {},
   "outputs": [],
   "source": []
  },
  {
   "cell_type": "code",
   "execution_count": null,
   "id": "fb21fb79",
   "metadata": {},
   "outputs": [],
   "source": []
  },
  {
   "cell_type": "code",
   "execution_count": null,
   "id": "78ad77f1",
   "metadata": {},
   "outputs": [],
   "source": []
  },
  {
   "cell_type": "code",
   "execution_count": null,
   "id": "35040ee0",
   "metadata": {},
   "outputs": [],
   "source": []
  },
  {
   "cell_type": "code",
   "execution_count": null,
   "id": "0af33945",
   "metadata": {},
   "outputs": [],
   "source": []
  },
  {
   "cell_type": "code",
   "execution_count": null,
   "id": "5bb605c8",
   "metadata": {},
   "outputs": [],
   "source": []
  }
 ],
 "metadata": {
  "kernelspec": {
   "display_name": "Python 3 (ipykernel)",
   "language": "python",
   "name": "python3"
  },
  "language_info": {
   "codemirror_mode": {
    "name": "ipython",
    "version": 3
   },
   "file_extension": ".py",
   "mimetype": "text/x-python",
   "name": "python",
   "nbconvert_exporter": "python",
   "pygments_lexer": "ipython3",
   "version": "3.11.0"
  }
 },
 "nbformat": 4,
 "nbformat_minor": 5
}
